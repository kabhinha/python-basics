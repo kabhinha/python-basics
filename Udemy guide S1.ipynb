{
 "cells": [
  {
   "cell_type": "code",
   "execution_count": 1,
   "metadata": {
    "vscode": {
     "languageId": "shellscript"
    }
   },
   "outputs": [
    {
     "name": "stdout",
     "output_type": "stream",
     "text": [
      "E:\\Users\\HP\\Desktop\\aalix clg\\explore\\Python Developer\n"
     ]
    }
   ],
   "source": [
    "cd \"E:\\Users\\HP\\Desktop\\aalix clg\\explore\\Python Developer\\\""
   ]
  },
  {
   "cell_type": "markdown",
   "metadata": {},
   "source": [
    "![requirements](img\\req.png)"
   ]
  },
  {
   "cell_type": "markdown",
   "metadata": {},
   "source": [
    "# Section 1\n",
    "---\n"
   ]
  },
  {
   "cell_type": "markdown",
   "metadata": {},
   "source": [
    "## Python Introduction\n",
    "\n",
    "\n",
    "<div style=\"color: red;\">\n",
    "<em><b>Let's recaptulate everything...</b></em>\n",
    "</div>"
   ]
  },
  {
   "cell_type": "markdown",
   "metadata": {},
   "source": [
    "<style>\n",
    "    .cursive {\n",
    "        font-family: cursive;\n",
    "    }\n",
    "\n",
    "    .blue {\n",
    "        color: blue;\n",
    "    }\n",
    "</style>\n",
    "python -> is just the documentaion to give certain instruction to the machine. \n",
    "People usually work with __\"Cpython\"__ but there are several other compiler/interpreters to use python in different languages these are as follows:\n",
    "> 1. Jython::<span class=\"cursive blue\">Python translator written in the java</span>\n",
    "> 2. ironPython:: <span class=\"cursive blue\">Python translator written in the .Net</span>"
   ]
  },
  {
   "cell_type": "markdown",
   "metadata": {},
   "source": [
    "<style>\n",
    "a {\n",
    "    color: silver;\n",
    "}\n",
    "a:hover {\n",
    "    color: silver;\n",
    "    text-decoration: None;\n",
    "}\n",
    "</style>\n",
    "A python script file follows the sequence written below to performe a certain task.\n",
    "> ``` \n",
    "> .py >> interpreter >> byte code >> Cpython VM >> 0/1 >> transistor \n",
    "\n",
    "\n",
    "Python \n",
    "[downlad package](https://www.python.org/downloads/) includes __(interpreter && Cpython VM)__"
   ]
  },
  {
   "cell_type": "markdown",
   "metadata": {},
   "source": [
    "<style>\n",
    "a {\n",
    "    color: silver;\n",
    "}\n",
    "a:hover {\n",
    "    color: silver;\n",
    "    text-decoration: None;\n",
    "}\n",
    "</style>\n",
    "Internet provid different online open source platforms to perform basics python coding \n",
    "Some of these platforms are:\n",
    "- [Repl](https://replit.com)\n",
    "- [Collab](https://research.google.com/colaboratory/)"
   ]
  },
  {
   "cell_type": "markdown",
   "metadata": {},
   "source": [
    "## Python Basics"
   ]
  },
  {
   "cell_type": "markdown",
   "metadata": {},
   "source": [
    "The simplest data i/o"
   ]
  },
  {
   "cell_type": "code",
   "execution_count": 6,
   "metadata": {},
   "outputs": [
    {
     "name": "stdout",
     "output_type": "stream",
     "text": [
      "Hello, Abhishek\n"
     ]
    }
   ],
   "source": [
    "name = input(\"pls enter your name in small letters: \")\n",
    "print(f\"Hello, {name}\")"
   ]
  },
  {
   "cell_type": "markdown",
   "metadata": {},
   "source": [
    "### Python 2 vs Python 3"
   ]
  },
  {
   "cell_type": "markdown",
   "metadata": {},
   "source": [
    "Python2 -> outdated version some places 2.7 avail in very lessss  \n",
    "Python3 -> current verion of python avail everywhere (Community support)"
   ]
  },
  {
   "cell_type": "markdown",
   "metadata": {
    "id": "nNIfKx5kqqo9"
   },
   "source": [
    "### Datatypes\n",
    "\n",
    "---\n",
    "\n"
   ]
  },
  {
   "cell_type": "markdown",
   "metadata": {
    "id": "aadZ1vQaqzvw"
   },
   "source": [
    "In programming, data type is an important concept.\n",
    "\n",
    "\n",
    "Variables can store data of different types, and different types can do different things.\n",
    "\n",
    "Python has the following data types built-in by default, in these categories:"
   ]
  },
  {
   "cell_type": "markdown",
   "metadata": {
    "id": "kCRMmgXmsIsF"
   },
   "source": [
    "- Text type\n",
    "- Numerical type\n",
    "- Sequence\n",
    "- Map type -> dictionaries\n"
   ]
  },
  {
   "cell_type": "markdown",
   "metadata": {},
   "source": [
    "Since Python is on object oriented programming it supports oops"
   ]
  },
  {
   "cell_type": "markdown",
   "metadata": {
    "id": "pOzuN4Zms5EA"
   },
   "source": [
    "Before begin with datatypes\n",
    "\n",
    "we should know about typecasting"
   ]
  },
  {
   "cell_type": "markdown",
   "metadata": {
    "id": "tf6yrtvCtDHX"
   },
   "source": [
    "#### typecasting\n",
    "\n",
    "---\n",
    "\n"
   ]
  },
  {
   "cell_type": "markdown",
   "metadata": {},
   "source": [
    "it means changing one datatype into other"
   ]
  },
  {
   "cell_type": "markdown",
   "metadata": {
    "id": "HsDLuRioNitj"
   },
   "source": [
    "Typecasting is important as we cann't do operation with different datatypes"
   ]
  },
  {
   "cell_type": "code",
   "execution_count": 7,
   "metadata": {
    "id": "3SWrs5jwNv7j"
   },
   "outputs": [
    {
     "ename": "TypeError",
     "evalue": "can only concatenate str (not \"int\") to str",
     "output_type": "error",
     "traceback": [
      "\u001b[1;31m---------------------------------------------------------------------------\u001b[0m",
      "\u001b[1;31mTypeError\u001b[0m                                 Traceback (most recent call last)",
      "\u001b[1;32m<ipython-input-7-5ec8071f6057>\u001b[0m in \u001b[0;36m<module>\u001b[1;34m\u001b[0m\n\u001b[0;32m      1\u001b[0m \u001b[1;31m# For example\u001b[0m\u001b[1;33m\u001b[0m\u001b[1;33m\u001b[0m\u001b[1;33m\u001b[0m\u001b[0m\n\u001b[1;32m----> 2\u001b[1;33m \u001b[0mprint\u001b[0m\u001b[1;33m(\u001b[0m\u001b[1;34m\"2\"\u001b[0m\u001b[1;33m+\u001b[0m\u001b[1;36m2\u001b[0m\u001b[1;33m)\u001b[0m\u001b[1;33m\u001b[0m\u001b[1;33m\u001b[0m\u001b[0m\n\u001b[0m",
      "\u001b[1;31mTypeError\u001b[0m: can only concatenate str (not \"int\") to str"
     ]
    }
   ],
   "source": [
    "# For example\n",
    "print(\"2\"+2)"
   ]
  },
  {
   "cell_type": "markdown",
   "metadata": {
    "id": "vIvutrimMcNp"
   },
   "source": [
    "we can see type of any thing in python using type() function"
   ]
  },
  {
   "cell_type": "code",
   "execution_count": 8,
   "metadata": {
    "id": "RGRSAvSLMt4n"
   },
   "outputs": [
    {
     "name": "stdout",
     "output_type": "stream",
     "text": [
      "<class 'int'>\n"
     ]
    }
   ],
   "source": [
    "a = 22\n",
    "print(type(a))"
   ]
  },
  {
   "cell_type": "markdown",
   "metadata": {
    "id": "ZXMD8i8UtQcz"
   },
   "source": [
    "#### Text type\n",
    "---"
   ]
  },
  {
   "cell_type": "markdown",
   "metadata": {
    "id": "JM_Mqz41taEg"
   },
   "source": [
    "##### String\n",
    "\n",
    "---"
   ]
  },
  {
   "cell_type": "markdown",
   "metadata": {
    "id": "1uJqmQWntfrT"
   },
   "source": [
    "string is that literal(expression) which python will see as statement\n",
    "We write string with either single quote or double quote\n",
    "If we don't write a string inside quotes then python will interpret it as variable or statement "
   ]
  },
  {
   "cell_type": "code",
   "execution_count": 9,
   "metadata": {
    "id": "qJJJxseLudP1"
   },
   "outputs": [
    {
     "data": {
      "text/plain": [
       "'print(222)'"
      ]
     },
     "execution_count": 9,
     "metadata": {},
     "output_type": "execute_result"
    }
   ],
   "source": [
    "\"print(222)\""
   ]
  },
  {
   "cell_type": "code",
   "execution_count": 10,
   "metadata": {
    "id": "T5ApfJGGuj3M"
   },
   "outputs": [
    {
     "name": "stdout",
     "output_type": "stream",
     "text": [
      "222\n"
     ]
    }
   ],
   "source": [
    "print(222)"
   ]
  },
  {
   "cell_type": "code",
   "execution_count": 11,
   "metadata": {
    "id": "G-e4MTGHugpj"
   },
   "outputs": [
    {
     "ename": "NameError",
     "evalue": "name 'Abhishek' is not defined",
     "output_type": "error",
     "traceback": [
      "\u001b[1;31m---------------------------------------------------------------------------\u001b[0m",
      "\u001b[1;31mNameError\u001b[0m                                 Traceback (most recent call last)",
      "\u001b[1;32m<ipython-input-11-e7be94c9b499>\u001b[0m in \u001b[0;36m<module>\u001b[1;34m\u001b[0m\n\u001b[1;32m----> 1\u001b[1;33m \u001b[0mAbhishek\u001b[0m\u001b[1;33m\u001b[0m\u001b[1;33m\u001b[0m\u001b[0m\n\u001b[0m",
      "\u001b[1;31mNameError\u001b[0m: name 'Abhishek' is not defined"
     ]
    }
   ],
   "source": [
    "Abhishek"
   ]
  },
  {
   "cell_type": "code",
   "execution_count": 12,
   "metadata": {
    "id": "-_nb-8kkuiCA"
   },
   "outputs": [
    {
     "data": {
      "text/plain": [
       "'Abhishek'"
      ]
     },
     "execution_count": 12,
     "metadata": {},
     "output_type": "execute_result"
    }
   ],
   "source": [
    "\"Abhishek\""
   ]
  },
  {
   "cell_type": "code",
   "execution_count": 13,
   "metadata": {
    "id": "qhm2igJTLFuO"
   },
   "outputs": [
    {
     "data": {
      "text/plain": [
       "'4+4'"
      ]
     },
     "execution_count": 13,
     "metadata": {},
     "output_type": "execute_result"
    }
   ],
   "source": [
    "\"4+4\""
   ]
  },
  {
   "cell_type": "markdown",
   "metadata": {
    "id": "hrzU4lKIKw5e"
   },
   "source": [
    "We can typecaste anything to sring using  \n",
    "\n",
    "str() function."
   ]
  },
  {
   "cell_type": "code",
   "execution_count": 14,
   "metadata": {
    "id": "Py5q-uMsK93D"
   },
   "outputs": [
    {
     "name": "stdout",
     "output_type": "stream",
     "text": [
      "241Ahejj\n"
     ]
    }
   ],
   "source": [
    "# For example\n",
    "num1 = str(241)\n",
    "num2 = \"Ahejj\"\n",
    "str(num1)\n",
    "str(num2)\n",
    "print(num1+num2)"
   ]
  },
  {
   "cell_type": "markdown",
   "metadata": {
    "id": "gTe8SFPeulp9"
   },
   "source": [
    "#### Numerical Type\n",
    "---"
   ]
  },
  {
   "cell_type": "markdown",
   "metadata": {
    "id": "6Xl3rXCaKCj9"
   },
   "source": [
    "##### Integer(int)\n",
    "\n",
    "\n",
    "\n"
   ]
  },
  {
   "cell_type": "markdown",
   "metadata": {
    "id": "SvbuAHg2KGti"
   },
   "source": [
    "Integer refers to any integer  \n",
    "\n",
    "we can typecaste anything which is a number can be done by int()"
   ]
  },
  {
   "cell_type": "markdown",
   "metadata": {
    "id": "fXrMlysfLv9x"
   },
   "source": [
    "__NOTE:__ only non decimal expression known as integer"
   ]
  },
  {
   "cell_type": "code",
   "execution_count": 15,
   "metadata": {
    "id": "6cL1WybgMRcJ"
   },
   "outputs": [
    {
     "name": "stdout",
     "output_type": "stream",
     "text": [
      "<class 'str'>\n",
      "<class 'int'>\n"
     ]
    }
   ],
   "source": [
    "a = \"44\"\n",
    "print(type(a))\n",
    "print(type(int(a)))"
   ]
  },
  {
   "cell_type": "markdown",
   "metadata": {
    "id": "1gvaoe7sMWWi"
   },
   "source": [
    "##### Float\n",
    "\n",
    "---\n",
    "\n"
   ]
  },
  {
   "cell_type": "markdown",
   "metadata": {
    "id": "nT1sV8pFVKy6"
   },
   "source": [
    "all decimals value are known as float in python"
   ]
  },
  {
   "cell_type": "markdown",
   "metadata": {
    "id": "rrVFFFVoM23a"
   },
   "source": [
    "float() function is use to typecaste a float"
   ]
  },
  {
   "cell_type": "code",
   "execution_count": 16,
   "metadata": {
    "id": "pGHTM6vPYdpb"
   },
   "outputs": [
    {
     "data": {
      "text/plain": [
       "float"
      ]
     },
     "execution_count": 16,
     "metadata": {},
     "output_type": "execute_result"
    }
   ],
   "source": [
    "type(3.14)"
   ]
  },
  {
   "cell_type": "code",
   "execution_count": 17,
   "metadata": {
    "id": "msV-gn2vNlTm"
   },
   "outputs": [
    {
     "name": "stdout",
     "output_type": "stream",
     "text": [
      "<class 'str'>\n",
      "<class 'float'>\n"
     ]
    }
   ],
   "source": [
    "# for example\n",
    "a = \"3.14594\"\n",
    "print(type(a))\n",
    "print(type(float(a)))"
   ]
  },
  {
   "cell_type": "markdown",
   "metadata": {
    "id": "RPw46-FxEc9p"
   },
   "source": [
    "#### Sequence\n",
    "\n",
    "---"
   ]
  },
  {
   "cell_type": "markdown",
   "metadata": {
    "id": "NfqYuu1XElDw"
   },
   "source": [
    "sequence datatype is use to cantain different datas  \n",
    "thease are total of 3 types for basic:\n",
    "> 1. List\n",
    "> 2. tuple\n",
    "> 3. array\n",
    "\n",
    "for advance python we use ndarray which is more faster than lists and tuple"
   ]
  },
  {
   "cell_type": "markdown",
   "metadata": {
    "id": "SPeQ6EueFZvB"
   },
   "source": [
    "##### List\n",
    "\n",
    "---"
   ]
  },
  {
   "cell_type": "markdown",
   "metadata": {
    "id": "vyqQzQNPFdK1"
   },
   "source": [
    "list is a mutable object in python  \n",
    "**Mutable:** it means that we can modify it's values after creating  \n",
    "\n",
    "list can containt any datatype and we can modify it.  "
   ]
  },
  {
   "cell_type": "markdown",
   "metadata": {
    "id": "rJv47Uz_G-_r"
   },
   "source": [
    "to create a list object we use **[]** brackets.  \n",
    "and for typecasting a list we use **list()**"
   ]
  },
  {
   "cell_type": "code",
   "execution_count": 26,
   "metadata": {
    "id": "1htpY6PpHLPa"
   },
   "outputs": [],
   "source": [
    "list1 = [1, 2, 3, 4, 5, 6, 7, 8, 9, 10]\n",
    "list2 = list((1, 2, 3, 4, 5, 6, 7, 8, 9, 10))\n",
    "list3 = [\n",
    "         [1, 2, 3],\n",
    "         [4, 5, 6],\n",
    "         [7, 8, 9],\n",
    "         10\n",
    "]"
   ]
  },
  {
   "cell_type": "code",
   "execution_count": 27,
   "metadata": {
    "id": "0rucXcWKHt9w"
   },
   "outputs": [
    {
     "name": "stdout",
     "output_type": "stream",
     "text": [
      "[1, 2, 3, 4, 5, 6, 7, 8, 9, 10] <class 'list'>\n",
      "[1, 2, 3, 4, 5, 6, 7, 8, 9, 10] <class 'list'>\n",
      "[[1, 2, 3], [4, 5, 6], [7, 8, 9], 10] <class 'list'>\n"
     ]
    }
   ],
   "source": [
    "print(list1, type(list1))\n",
    "print(list2, type(list1))\n",
    "print(list3, type(list1))"
   ]
  },
  {
   "cell_type": "markdown",
   "metadata": {
    "id": "9eOWzlfZIoXw"
   },
   "source": [
    "<span style=\"font-size: 20px\">adding element to an existing list</span>"
   ]
  },
  {
   "cell_type": "markdown",
   "metadata": {
    "id": "XCarRsOQI_gZ"
   },
   "source": [
    "we can add elements to an existing list with the help of **append** method"
   ]
  },
  {
   "cell_type": "code",
   "execution_count": 28,
   "metadata": {
    "id": "U3z26sQcJdl4"
   },
   "outputs": [
    {
     "name": "stdout",
     "output_type": "stream",
     "text": [
      "[2] <class 'list'>\n"
     ]
    }
   ],
   "source": [
    "list4 = [] # an empty list\n",
    "list4.append(2)\n",
    "print(list4, type(list4))"
   ]
  },
  {
   "cell_type": "markdown",
   "metadata": {
    "id": "zPBg564CNaWG"
   },
   "source": [
    "Just like append method there are more list methods which you may see from [W3school](https://www.w3schools.com/python/python_lists.asp)"
   ]
  },
  {
   "cell_type": "markdown",
   "metadata": {
    "id": "nuP09Y-fJx06"
   },
   "source": [
    "<span style=\"font-size: 22.5px;\">Accessing items from a list</span>"
   ]
  },
  {
   "cell_type": "markdown",
   "metadata": {
    "id": "dL9e3SBwJ_zQ"
   },
   "source": [
    "let's learn how to access any element from a list"
   ]
  },
  {
   "cell_type": "markdown",
   "metadata": {
    "id": "ptVSFNjkKMGs"
   },
   "source": [
    "we access any element by writing index of element in square braces along the list"
   ]
  },
  {
   "cell_type": "markdown",
   "metadata": {
    "id": "H6Z7zpRDKfnD"
   },
   "source": [
    "Index of an element is id of the element.  \n",
    "\n",
    "We read it as \n",
    "![slicing](https://cdn.programiz.com/sites/tutorial2program/files/python-list-index.png)  \n",
    "\n",
    "\n",
    "here,  \n",
    "a = [\"p\", \"r\", \"o\", \"b\", \"e\"] is given..."
   ]
  },
  {
   "cell_type": "markdown",
   "metadata": {
    "id": "xQBCP3AoLZm0"
   },
   "source": [
    "-ve index is use to access last item"
   ]
  },
  {
   "cell_type": "code",
   "execution_count": 29,
   "metadata": {
    "id": "Pshu8rUpLgSL"
   },
   "outputs": [],
   "source": [
    "a = [\"p\", \"y\", \"t\", \"h\", \"o\", \"n\"]\n",
    "#     0    1    2    3    4    5\n",
    "#    -6   -5   -4   -3   -2    -1"
   ]
  },
  {
   "cell_type": "code",
   "execution_count": 30,
   "metadata": {
    "id": "qsD-wlQNMHXy"
   },
   "outputs": [
    {
     "name": "stdout",
     "output_type": "stream",
     "text": [
      "p\n",
      "r\n",
      "t\n",
      "p\n",
      "t\n"
     ]
    }
   ],
   "source": [
    "# extracting single elements\n",
    "a = [\"p\",\"q\",\"r\",\"s\",\"t\"]\n",
    "print(a[0])\n",
    "print(a[2])\n",
    "print(a[4])\n",
    "# neagative indexes\n",
    "print(a[-5])\n",
    "print(a[-1])"
   ]
  },
  {
   "cell_type": "code",
   "execution_count": 31,
   "metadata": {
    "id": "ytI8zD6AMzjf"
   },
   "outputs": [
    {
     "name": "stdout",
     "output_type": "stream",
     "text": [
      "['p', 'q', 'r']\n",
      "['p', 'q']\n"
     ]
    }
   ],
   "source": [
    "# extracting a group of elements\n",
    "print(a[0:3])\n",
    "print(a[:2])"
   ]
  },
  {
   "cell_type": "markdown",
   "metadata": {},
   "source": [
    "##### Tuple\n",
    "---"
   ]
  },
  {
   "cell_type": "markdown",
   "metadata": {
    "id": "vyqQzQNPFdK1"
   },
   "source": [
    "Tuple is a mutable object in python  \n",
    "**Immutable:** it means that we can __not__ modify it's values after creating  \n",
    "\n",
    "list can containt any datatype and we can modify it.  "
   ]
  },
  {
   "cell_type": "markdown",
   "metadata": {
    "id": "rJv47Uz_G-_r"
   },
   "source": [
    "to create a list object we use **()** brackets.  \n",
    "and for typecasting a list we use **tuple()**"
   ]
  },
  {
   "cell_type": "code",
   "execution_count": 32,
   "metadata": {
    "id": "1htpY6PpHLPa"
   },
   "outputs": [],
   "source": [
    "tuple1 = (1, 2, 3, 4, 5, 6, 7, 8, 9, 10)\n",
    "tuple2 = tuple(range(1, 11))\n",
    "tuple3 = (\n",
    "         (1, 2, 3),\n",
    "         (4, 5, 6),\n",
    "         (7, 8, 9),\n",
    "         10\n",
    ")"
   ]
  },
  {
   "cell_type": "code",
   "execution_count": 33,
   "metadata": {
    "id": "0rucXcWKHt9w"
   },
   "outputs": [
    {
     "name": "stdout",
     "output_type": "stream",
     "text": [
      "(1, 2, 3, 4, 5, 6, 7, 8, 9, 10) <class 'tuple'>\n",
      "(1, 2, 3, 4, 5, 6, 7, 8, 9, 10) <class 'tuple'>\n",
      "((1, 2, 3), (4, 5, 6), (7, 8, 9), 10) <class 'tuple'>\n"
     ]
    }
   ],
   "source": [
    "print(tuple1, type(tuple1))\n",
    "print(tuple2, type(tuple1))\n",
    "print(tuple3, type(tuple1))"
   ]
  },
  {
   "cell_type": "markdown",
   "metadata": {},
   "source": [
    "##### Array"
   ]
  },
  {
   "cell_type": "markdown",
   "metadata": {
    "id": "vyqQzQNPFdK1"
   },
   "source": [
    "An array is a collection of homogeneous data types"
   ]
  },
  {
   "cell_type": "markdown",
   "metadata": {},
   "source": [
    "###### <h1> Developer Fundamentals - 1</h1>\n",
    "---"
   ]
  },
  {
   "cell_type": "markdown",
   "metadata": {},
   "source": [
    "___Don't be a dictionary___ A programer never try to memories everything.  \n",
    "Practice :-> improve at every steps"
   ]
  },
  {
   "cell_type": "markdown",
   "metadata": {},
   "source": []
  },
  {
   "cell_type": "markdown",
   "metadata": {},
   "source": [
    "#### Maps\n",
    "---"
   ]
  },
  {
   "cell_type": "markdown",
   "metadata": {},
   "source": [
    "##### Dictionaries\n",
    "---"
   ]
  },
  {
   "cell_type": "markdown",
   "metadata": {},
   "source": [
    "Dictionaries are <span style=\"font-family: cursive;\">unordered key:value pairs</span>  \n",
    "dictionaries are semi mutable. i.e. values are mutable but keys are immutable.  \n",
    "Values are acces through thier corresponding keys."
   ]
  },
  {
   "cell_type": "markdown",
   "metadata": {},
   "source": [
    "Dicts do not allow duplicate keys."
   ]
  },
  {
   "cell_type": "code",
   "execution_count": 39,
   "metadata": {},
   "outputs": [],
   "source": [
    "Dict = {\"name\": \"Abhishek\", \"age\": 18}"
   ]
  },
  {
   "cell_type": "code",
   "execution_count": 43,
   "metadata": {},
   "outputs": [
    {
     "data": {
      "text/plain": [
       "dict"
      ]
     },
     "execution_count": 43,
     "metadata": {},
     "output_type": "execute_result"
    }
   ],
   "source": [
    "type(Dict)"
   ]
  },
  {
   "cell_type": "markdown",
   "metadata": {},
   "source": [
    "<span style=\"font-size: 20px\">Accesing items</span>\n",
    "---"
   ]
  },
  {
   "cell_type": "code",
   "execution_count": 40,
   "metadata": {},
   "outputs": [
    {
     "data": {
      "text/plain": [
       "18"
      ]
     },
     "execution_count": 40,
     "metadata": {},
     "output_type": "execute_result"
    }
   ],
   "source": [
    "Dict[\"age\"]"
   ]
  },
  {
   "cell_type": "code",
   "execution_count": 44,
   "metadata": {},
   "outputs": [
    {
     "data": {
      "text/plain": [
       "'Abhishek'"
      ]
     },
     "execution_count": 44,
     "metadata": {},
     "output_type": "execute_result"
    }
   ],
   "source": [
    "Dict.get(\"name\")"
   ]
  },
  {
   "cell_type": "markdown",
   "metadata": {},
   "source": [
    "Keys of a dictionary can be access with the help of ```keys()``` function"
   ]
  },
  {
   "cell_type": "code",
   "execution_count": 45,
   "metadata": {},
   "outputs": [
    {
     "data": {
      "text/plain": [
       "dict_keys(['name', 'age'])"
      ]
     },
     "execution_count": 45,
     "metadata": {},
     "output_type": "execute_result"
    }
   ],
   "source": [
    "Dict.keys()"
   ]
  },
  {
   "cell_type": "markdown",
   "metadata": {},
   "source": [
    "Values of a dictionary can be access with the help of ```values()``` function"
   ]
  },
  {
   "cell_type": "code",
   "execution_count": 46,
   "metadata": {},
   "outputs": [
    {
     "data": {
      "text/plain": [
       "dict_values(['Abhishek', 18])"
      ]
     },
     "execution_count": 46,
     "metadata": {},
     "output_type": "execute_result"
    }
   ],
   "source": [
    "Dict.values()"
   ]
  },
  {
   "cell_type": "markdown",
   "metadata": {},
   "source": [
    "key:value pairs of a dictionary can be access as a 1X2 tuple by ```items()```"
   ]
  },
  {
   "cell_type": "code",
   "execution_count": 47,
   "metadata": {},
   "outputs": [
    {
     "data": {
      "text/plain": [
       "dict_items([('name', 'Abhishek'), ('age', 18)])"
      ]
     },
     "execution_count": 47,
     "metadata": {},
     "output_type": "execute_result"
    }
   ],
   "source": [
    "Dict.items()"
   ]
  },
  {
   "cell_type": "markdown",
   "metadata": {},
   "source": [
    "The value can be change by the following statement"
   ]
  },
  {
   "cell_type": "code",
   "execution_count": 48,
   "metadata": {},
   "outputs": [],
   "source": [
    "Dict[\"age\"] = 19"
   ]
  },
  {
   "cell_type": "code",
   "execution_count": 49,
   "metadata": {},
   "outputs": [
    {
     "data": {
      "text/plain": [
       "19"
      ]
     },
     "execution_count": 49,
     "metadata": {},
     "output_type": "execute_result"
    }
   ],
   "source": [
    "Dict[\"age\"]"
   ]
  },
  {
   "cell_type": "markdown",
   "metadata": {},
   "source": [
    "or using the ```update()``` function"
   ]
  },
  {
   "cell_type": "code",
   "execution_count": 54,
   "metadata": {},
   "outputs": [],
   "source": [
    "Dict.update({\"age\": 18})"
   ]
  },
  {
   "cell_type": "code",
   "execution_count": 56,
   "metadata": {},
   "outputs": [
    {
     "data": {
      "text/plain": [
       "18"
      ]
     },
     "execution_count": 56,
     "metadata": {},
     "output_type": "execute_result"
    }
   ],
   "source": [
    "Dict[\"age\"]"
   ]
  },
  {
   "cell_type": "markdown",
   "metadata": {},
   "source": [
    "```in``` operator checks if a key present in dictionary or not"
   ]
  },
  {
   "cell_type": "code",
   "execution_count": 50,
   "metadata": {},
   "outputs": [
    {
     "data": {
      "text/plain": [
       "True"
      ]
     },
     "execution_count": 50,
     "metadata": {},
     "output_type": "execute_result"
    }
   ],
   "source": [
    "\"name\" in Dict"
   ]
  },
  {
   "cell_type": "markdown",
   "metadata": {},
   "source": [
    "Any new pair can be add just like changing the values"
   ]
  },
  {
   "cell_type": "code",
   "execution_count": 57,
   "metadata": {},
   "outputs": [],
   "source": [
    "Dict[\"College\"] = \"IMS Engineering College, Gaziyabad\"\n",
    "Dict.update({\"Course\":\"B tech CSE\"})"
   ]
  },
  {
   "cell_type": "code",
   "execution_count": 58,
   "metadata": {},
   "outputs": [
    {
     "name": "stdout",
     "output_type": "stream",
     "text": [
      "name -> Abhishek\n",
      "age -> 18\n",
      "College -> IMS Engineering College, Gaziyabad\n",
      "Course -> B tech CSE\n"
     ]
    }
   ],
   "source": [
    "for i, j in Dict.items():\n",
    "    print(f\"{i} -> {j}\")"
   ]
  },
  {
   "cell_type": "markdown",
   "metadata": {},
   "source": [
    "<span style=\"font-size: 20px\">Dropping items</span>\n",
    "---"
   ]
  },
  {
   "cell_type": "markdown",
   "metadata": {},
   "source": [
    "Dictionaries have the following methods:  \n",
    "pop -> specific  \n",
    "popitem -> last  \n",
    "del name[key] -> same as pop  \n",
    "del name -> delete dict  \n",
    "clear -> returns empty dictionary  "
   ]
  },
  {
   "cell_type": "markdown",
   "metadata": {},
   "source": [
    "### Breaking the flow\n",
    "\n",
    "---"
   ]
  },
  {
   "cell_type": "markdown",
   "metadata": {},
   "source": [
    "<span style=\"font-size: 22.5px;\">Ternary operator</span>"
   ]
  },
  {
   "cell_type": "markdown",
   "metadata": {},
   "source": [
    "Shortcut of if, else-if ternary operator is known as conditional expression."
   ]
  },
  {
   "cell_type": "code",
   "execution_count": 79,
   "metadata": {},
   "outputs": [],
   "source": [
    "age = int(input())"
   ]
  },
  {
   "cell_type": "code",
   "execution_count": 80,
   "metadata": {},
   "outputs": [],
   "source": [
    "drive = \"allowed\" if age >= 18 else \"not allowed!!\""
   ]
  },
  {
   "cell_type": "code",
   "execution_count": 81,
   "metadata": {},
   "outputs": [
    {
     "data": {
      "text/plain": [
       "'allowed'"
      ]
     },
     "execution_count": 81,
     "metadata": {},
     "output_type": "execute_result"
    }
   ],
   "source": [
    "drive"
   ]
  },
  {
   "cell_type": "markdown",
   "metadata": {},
   "source": [
    "<span style=\"font-size: 22.5px;\">Short Circuiting</span>"
   ]
  },
  {
   "cell_type": "markdown",
   "metadata": {},
   "source": [
    "while  \n",
    "using `or` oprator -> first true => other expressions ignored and returns true  \n",
    "using `and` oprator -> first false => other expressions ignored and return false"
   ]
  },
  {
   "cell_type": "markdown",
   "metadata": {},
   "source": [
    "<span style=\"font-size: 22.5px;\">enumerate()</span>"
   ]
  },
  {
   "cell_type": "markdown",
   "metadata": {},
   "source": [
    "enumerate -> returns a tuple (index, item) of itterable  \n",
    "<span style=\"color: violet; font-family: cursive\">Ex.</span>"
   ]
  },
  {
   "cell_type": "code",
   "execution_count": 3,
   "metadata": {},
   "outputs": [
    {
     "name": "stdout",
     "output_type": "stream",
     "text": [
      "0 -> H\n",
      "1 -> e\n",
      "2 -> l\n",
      "3 -> l\n",
      "4 -> o\n"
     ]
    }
   ],
   "source": [
    "for i, itt in enumerate(\"Hello\"):\n",
    "    print(f\"{i} -> {itt}\")"
   ]
  },
  {
   "cell_type": "markdown",
   "metadata": {},
   "source": [
    "### Functions"
   ]
  },
  {
   "cell_type": "markdown",
   "metadata": {},
   "source": [
    "Functions are block of code which is reuseable.  \n",
    "it includes a header and a body\n",
    "```\n",
    "def func_name(): -> hearder\n",
    "    do something -> body\n",
    "```"
   ]
  },
  {
   "cell_type": "markdown",
   "metadata": {},
   "source": [
    "name() -> some work will done when it is called => callable  \n",
    "name   -> it is a value => callable"
   ]
  },
  {
   "cell_type": "markdown",
   "metadata": {},
   "source": [
    "return keyword return the value and exit the funcn scope"
   ]
  },
  {
   "cell_type": "markdown",
   "metadata": {},
   "source": [
    "Parameters are written as following order  \n",
    "```actual_parms, *args, default_params, **kwargs```"
   ]
  },
  {
   "cell_type": "markdown",
   "metadata": {},
   "source": [
    "<span style=\"font-size: 30px;\">walrus operator</span>"
   ]
  },
  {
   "cell_type": "markdown",
   "metadata": {},
   "source": [
    "assign a part of statement in a variable  \n",
    "<span style=\"color: violet; font-family: cursive\">Ex.</span>"
   ]
  },
  {
   "cell_type": "code",
   "execution_count": 10,
   "metadata": {},
   "outputs": [],
   "source": [
    "a = list(range(10))"
   ]
  },
  {
   "cell_type": "code",
   "execution_count": 15,
   "metadata": {},
   "outputs": [
    {
     "name": "stdout",
     "output_type": "stream",
     "text": [
      "1000\n"
     ]
    }
   ],
   "source": [
    "if (b := len(a)) == 10:\n",
    "    print(b*100)"
   ]
  }
 ],
 "metadata": {
  "kernelspec": {
   "display_name": "Python 3.8.5 ('base')",
   "language": "python",
   "name": "python3"
  },
  "language_info": {
   "codemirror_mode": {
    "name": "ipython",
    "version": 3
   },
   "file_extension": ".py",
   "mimetype": "text/x-python",
   "name": "python",
   "nbconvert_exporter": "python",
   "pygments_lexer": "ipython3",
   "version": "3.8.5"
  },
  "vscode": {
   "interpreter": {
    "hash": "ad2bdc8ecc057115af97d19610ffacc2b4e99fae6737bb82f5d7fb13d2f2c186"
   }
  }
 },
 "nbformat": 4,
 "nbformat_minor": 4
}
