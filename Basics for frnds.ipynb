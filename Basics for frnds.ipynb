{
  "cells": [
    {
      "cell_type": "markdown",
      "metadata": {
        "id": "DzWHW1RwdmPD"
      },
      "source": [
        "# Getting Started\n",
        "\n",
        "\n",
        "---\n",
        "\n",
        "<div style=\"color: red;\">\n",
        "  A very warm welcome to you all, today I \n",
        "  am here to give you  an introduce of basic\n",
        "  concept of computer languages.\n",
        "  what we call a computer language?\n",
        "  who know this computer language?\n",
        "</div>\n",
        "\n",
        "we all think that a programmer is the one who understand the language of computers.  \n",
        "\n",
        "But what would you say if I say that programmers don't know the language of computers? your reply must be either I am mad! or what rubbish I am saying...  \n",
        "\n",
        "But, in fact computers can only understand language of 0&1 which is known as machine language as CPU is made up of transistors and 0 and 1 or we can say true and false help CPU to turn thease transistors on in certain patterns through which computer execute something. \n",
        "**Nobody know this computer language.**  \n",
        "A Programmer know some languages like C, C++, Python, SQL, Julia etc. which can be converte to machine language."
      ]
    },
    {
      "cell_type": "markdown",
      "metadata": {
        "id": "1sjQ0w2kYa2a"
      },
      "source": [
        "A programmer write source code in any programming or markup languge of his/her choice and compillers/interpreter convert it into machine code written in machine code"
      ]
    },
    {
      "cell_type": "markdown",
      "metadata": {
        "id": "QPSyNlfXV83l"
      },
      "source": [
        "# Getting Started With Python\n",
        "---\n",
        "\n",
        "Though computer programing was begin in 1843 but before 1980s software programming refers to writing tons of complex codes which only some experts could understand,\n",
        "but from 1990s with the first issue of **Python Programming Language** this ideology begin to change.  \n",
        "\n",
        "As change is what describe the world and need is the mother of invention, thus in late 80s **Guido Van Rossum** concived a new programming language named python.<br>\n",
        "The name Python was taken from the BBC TV show \"Monty Python's Flying Circle\" which was a unique name for a programming language that time."
      ]
    },
    {
      "cell_type": "markdown",
      "metadata": {
        "id": "iztiW9GBZ0YH"
      },
      "source": [
        "![Guido Van Rossam](https://gvanrossum.github.io/images/guido-headshot-2019.jpg)\n",
        "Guido Van Rossam a Dutch programmer who developed python"
      ]
    },
    {
      "cell_type": "markdown",
      "metadata": {
        "id": "TLc6_CIxdmPH"
      },
      "source": [
        "Python is an object oriented programming language which is dynamically typed.Unliked its rivals it is more user friendly as it is an ABC language, and anyone can learn it.  "
      ]
    },
    {
      "cell_type": "markdown",
      "metadata": {
        "id": "ffNOMG5EDK6Z"
      },
      "source": [
        "## What is python?"
      ]
    },
    {
      "cell_type": "markdown",
      "metadata": {
        "id": "dPN1drPVDL1n"
      },
      "source": [
        "In simple way to understand without any theory, python is a language developed in 1989 which help everyone to interact humans i.e. developers and programmers to computer and give ability to use complete power of computer."
      ]
    },
    {
      "cell_type": "markdown",
      "metadata": {
        "id": "kh9L8P_KgD6q"
      },
      "source": [
        "## How To install python"
      ]
    },
    {
      "cell_type": "code",
      "execution_count": 1,
      "metadata": {
        "colab": {
          "base_uri": "https://localhost:8080/",
          "height": 401
        },
        "id": "Z6sj2Lp-fh98",
        "outputId": "2a103b64-148f-490a-f079-cf3a33c3d10f"
      },
      "outputs": [
        {
          "data": {
            "image/jpeg": "[encoded data removed]",
            "text/html": [
              "\n",
              "        <iframe\n",
              "            width=\"500\"\n",
              "            height=\"380\"\n",
              "            src=\"https://www.youtube.com/embed/-M84JbN4TiE\"\n",
              "            frameborder=\"0\"\n",
              "            allowfullscreen\n",
              "        ></iframe>\n",
              "        "
            ],
            "text/plain": [
              "<IPython.lib.display.YouTubeVideo at 0x22ad6d62af0>"
            ]
          },
          "execution_count": 1,
          "metadata": {},
          "output_type": "execute_result"
        }
      ],
      "source": [
        "from IPython.display import Markdown as md\n",
        "from IPython.display import YouTubeVideo\n",
        "YouTubeVideo(\"-M84JbN4TiE\", height=380, width=500)"
      ]
    },
    {
      "cell_type": "markdown",
      "metadata": {
        "id": "20P3-qWRdmPN"
      },
      "source": [
        "### Using python first time\n",
        "\n",
        "---\n",
        "\n",
        "To use python open a terminal or on window comand prompt and type:\n",
        "\n",
        "```\n",
        "> python\n",
        "```\n",
        "This will open a python interpreter  \n",
        "Here are some examples to do first time in python"
      ]
    },
    {
      "cell_type": "code",
      "execution_count": null,
      "metadata": {
        "colab": {
          "base_uri": "https://localhost:8080/",
          "height": 35
        },
        "id": "FJxqBYyTdmPQ",
        "outputId": "aca6dcbf-7d8d-43c5-dd6c-f6acdf05be86"
      },
      "outputs": [
        {
          "data": {
            "application/vnd.google.colaboratory.intrinsic+json": {
              "type": "string"
            },
            "text/plain": [
              "'Hello World'"
            ]
          },
          "execution_count": 17,
          "metadata": {
            "tags": []
          },
          "output_type": "execute_result"
        }
      ],
      "source": [
        "\"Hello World\""
      ]
    },
    {
      "cell_type": "code",
      "execution_count": null,
      "metadata": {
        "colab": {
          "base_uri": "https://localhost:8080/",
          "height": 35
        },
        "id": "zfOuw3madmPp",
        "outputId": "707ed0e5-f2bb-4922-f969-be996d99b176"
      },
      "outputs": [
        {
          "data": {
            "text/plain": [
              "2"
            ]
          },
          "execution_count": 18,
          "metadata": {
            "tags": []
          },
          "output_type": "execute_result"
        }
      ],
      "source": [
        "1+1"
      ]
    },
    {
      "cell_type": "code",
      "execution_count": null,
      "metadata": {
        "colab": {
          "base_uri": "https://localhost:8080/",
          "height": 35
        },
        "id": "nTgL2D4BdmPs",
        "outputId": "6d7b48f9-d354-40c6-80ec-355fe3313bf3"
      },
      "outputs": [
        {
          "name": "stdout",
          "output_type": "stream",
          "text": [
            "Hello guys\n"
          ]
        }
      ],
      "source": [
        "print(\"Hello guys\")"
      ]
    },
    {
      "cell_type": "markdown",
      "metadata": {
        "id": "e00Aw-q7dmPw"
      },
      "source": [
        "### Writing First Python File\n",
        "\n",
        "---\n",
        "\n",
        "To create your first python file just open your favourite IDE or text editor and create a file with \".py\" extension and start typing...\n"
      ]
    },
    {
      "cell_type": "markdown",
      "metadata": {
        "id": "UUeWMGLRBxWb"
      },
      "source": [
        "#### Difference b/w Script and Interpreter execution"
      ]
    },
    {
      "cell_type": "markdown",
      "metadata": {
        "id": "wi_g87ikCWyQ"
      },
      "source": [
        "An Interpreter is use to run python expressions and statements line by line and it execute both expressions and statements  \n",
        "A script execute a whole code at once and it execute only statements"
      ]
    },
    {
      "cell_type": "markdown",
      "metadata": {
        "id": "lqL_6KdsYCbn"
      },
      "source": [
        "#### Difference b/w statement and expression"
      ]
    },
    {
      "cell_type": "markdown",
      "metadata": {
        "id": "jrt_9yHVDVai"
      },
      "source": [
        "A __expression__ means with any value which do not do any thing.  \n",
        "Ex.(on interpreter)  \n",
        "\n",
        "```\n",
        ">>> \"Hello Abhishek\"\n",
        ">>> 'Hello AAlix'\n",
        ">>> 1+1\n",
        "```\n",
        "\n",
        "A __Statement__ means with anything which do some thing.  \n",
        "Ex.(on interpreter)  \n",
        "\n",
        "```\n",
        ">>> print(\"Hello Abhishek\")\n",
        ">>> name = 'Hello AAlix'\n",
        ">>> for i in range(10):\n",
        "...     print(i)\n",
        "```\n"
      ]
    },
    {
      "cell_type": "markdown",
      "metadata": {
        "id": "uj8cB5AnNAUh"
      },
      "source": [
        "#### Comments  \n",
        "Anything which we want to ignored at the time of execution is called a comment  \n",
        "\n",
        "Comment can be simply write using # symbol\n",
        "Ex.\n",
        "```\n",
        "# This is a comment Python will ignore it\n",
        "```\n"
      ]
    },
    {
      "cell_type": "markdown",
      "metadata": {
        "id": "PAsFd3ReOkBh"
      },
      "source": [
        "**NOTE:** If we use # inside quotes then python will read it as a string."
      ]
    },
    {
      "cell_type": "markdown",
      "metadata": {
        "id": "Z633k-1OO8tT"
      },
      "source": [
        "Points to keep in mind while writing a comment:\n",
        "* They Should be precise\n",
        "* They should be easy to understand\n",
        "* Avoid unnessecary comments\n",
        "\n"
      ]
    },
    {
      "cell_type": "markdown",
      "metadata": {
        "id": "i6DhKjlHD2jp"
      },
      "source": [
        "### What is the use of an IDE or a text editor in programming?"
      ]
    },
    {
      "cell_type": "markdown",
      "metadata": {
        "id": "hbM_9BpeEBpA"
      },
      "source": [
        "IDE/text editor help us to create script which we can use in future after developing once, and distribute it."
      ]
    },
    {
      "cell_type": "markdown",
      "metadata": {
        "id": "DJsPZEAfEQiL"
      },
      "source": [
        "In simple language, IDE works as a notebook through which developer or programer can write their idea in language which is understandable to computer."
      ]
    },
    {
      "cell_type": "markdown",
      "metadata": {
        "id": "Jomnru81dmPx"
      },
      "source": [
        "#### IDE VS text editor\n",
        " \n",
        "---\n",
        " \n",
        "Both IDE(Integrated Development Environment) and text editor are used to modify or create a file,  \n",
        "But an IDE consist of many more features such as Debugger and terminal which makes it easy to make large scale projects."
      ]
    },
    {
      "cell_type": "markdown",
      "metadata": {
        "id": "YvRhN_v7w4Pb"
      },
      "source": [
        "Some Ex. of IDE: VS Code, Spyder, Pycharm, Jupyter  \n",
        "Some Ex. of text editor: notepad, notepad++"
      ]
    },
    {
      "cell_type": "markdown",
      "metadata": {
        "id": "5SiytTqb-Enb"
      },
      "source": [
        "Though we can write a script(Python Code) in both a text editor or an IDE but it is very painfull to write a script in text editor with it because of it's less features, as we need to open many softwares at a same time to create a desire an idol script by a text editor which we can use with only one IDE."
      ]
    },
    {
      "cell_type": "markdown",
      "metadata": {
        "id": "FCgkMLY5-48F"
      },
      "source": [
        "**NOTE:**  Though we have many IDE and many people may refer you to pycharm or any other IDE but I personally prefer to use [\"VS Code\"](https://code.visualstudio.com/download)"
      ]
    },
    {
      "cell_type": "markdown",
      "metadata": {
        "id": "QVALFxxhYkYh"
      },
      "source": [
        "## help Function"
      ]
    },
    {
      "cell_type": "markdown",
      "metadata": {
        "id": "3dIDIotQYp-L"
      },
      "source": [
        "It is a built-in function that help you to view docstring of any module that you have imported"
      ]
    },
    {
      "cell_type": "markdown",
      "metadata": {
        "id": "zRd3T67zY5Wg"
      },
      "source": [
        "\n",
        "### Usage\n"
      ]
    },
    {
      "cell_type": "markdown",
      "metadata": {
        "id": "eG8ZCBnIWI5p"
      },
      "source": [
        "```\n",
        "import math\n",
        "help(math)\n",
        "```  \n",
        "\n",
        "The above code is example, here we want to know what is documentation of math module."
      ]
    },
    {
      "cell_type": "code",
      "execution_count": null,
      "metadata": {
        "colab": {
          "base_uri": "https://localhost:8080/",
          "height": 1000
        },
        "id": "J7iIySrqZKmA",
        "outputId": "277137fb-20f4-40f8-d910-cb898c6638a7"
      },
      "outputs": [
        {
          "name": "stdout",
          "output_type": "stream",
          "text": [
            "Help on built-in module math:\n",
            "\n",
            "NAME\n",
            "    math\n",
            "\n",
            "DESCRIPTION\n",
            "    This module is always available.  It provides access to the\n",
            "    mathematical functions defined by the C standard.\n",
            "\n",
            "FUNCTIONS\n",
            "    acos(...)\n",
            "        acos(x)\n",
            "        \n",
            "        Return the arc cosine (measured in radians) of x.\n",
            "    \n",
            "    acosh(...)\n",
            "        acosh(x)\n",
            "        \n",
            "        Return the inverse hyperbolic cosine of x.\n",
            "    \n",
            "    asin(...)\n",
            "        asin(x)\n",
            "        \n",
            "        Return the arc sine (measured in radians) of x.\n",
            "    \n",
            "    asinh(...)\n",
            "        asinh(x)\n",
            "        \n",
            "        Return the inverse hyperbolic sine of x.\n",
            "    \n",
            "    atan(...)\n",
            "        atan(x)\n",
            "        \n",
            "        Return the arc tangent (measured in radians) of x.\n",
            "    \n",
            "    atan2(...)\n",
            "        atan2(y, x)\n",
            "        \n",
            "        Return the arc tangent (measured in radians) of y/x.\n",
            "        Unlike atan(y/x), the signs of both x and y are considered.\n",
            "    \n",
            "    atanh(...)\n",
            "        atanh(x)\n",
            "        \n",
            "        Return the inverse hyperbolic tangent of x.\n",
            "    \n",
            "    ceil(...)\n",
            "        ceil(x)\n",
            "        \n",
            "        Return the ceiling of x as an Integral.\n",
            "        This is the smallest integer >= x.\n",
            "    \n",
            "    copysign(...)\n",
            "        copysign(x, y)\n",
            "        \n",
            "        Return a float with the magnitude (absolute value) of x but the sign \n",
            "        of y. On platforms that support signed zeros, copysign(1.0, -0.0) \n",
            "        returns -1.0.\n",
            "    \n",
            "    cos(...)\n",
            "        cos(x)\n",
            "        \n",
            "        Return the cosine of x (measured in radians).\n",
            "    \n",
            "    cosh(...)\n",
            "        cosh(x)\n",
            "        \n",
            "        Return the hyperbolic cosine of x.\n",
            "    \n",
            "    degrees(...)\n",
            "        degrees(x)\n",
            "        \n",
            "        Convert angle x from radians to degrees.\n",
            "    \n",
            "    erf(...)\n",
            "        erf(x)\n",
            "        \n",
            "        Error function at x.\n",
            "    \n",
            "    erfc(...)\n",
            "        erfc(x)\n",
            "        \n",
            "        Complementary error function at x.\n",
            "    \n",
            "    exp(...)\n",
            "        exp(x)\n",
            "        \n",
            "        Return e raised to the power of x.\n",
            "    \n",
            "    expm1(...)\n",
            "        expm1(x)\n",
            "        \n",
            "        Return exp(x)-1.\n",
            "        This function avoids the loss of precision involved in the direct evaluation of exp(x)-1 for small x.\n",
            "    \n",
            "    fabs(...)\n",
            "        fabs(x)\n",
            "        \n",
            "        Return the absolute value of the float x.\n",
            "    \n",
            "    factorial(...)\n",
            "        factorial(x) -> Integral\n",
            "        \n",
            "        Find x!. Raise a ValueError if x is negative or non-integral.\n",
            "    \n",
            "    floor(...)\n",
            "        floor(x)\n",
            "        \n",
            "        Return the floor of x as an Integral.\n",
            "        This is the largest integer <= x.\n",
            "    \n",
            "    fmod(...)\n",
            "        fmod(x, y)\n",
            "        \n",
            "        Return fmod(x, y), according to platform C.  x % y may differ.\n",
            "    \n",
            "    frexp(...)\n",
            "        frexp(x)\n",
            "        \n",
            "        Return the mantissa and exponent of x, as pair (m, e).\n",
            "        m is a float and e is an int, such that x = m * 2.**e.\n",
            "        If x is 0, m and e are both 0.  Else 0.5 <= abs(m) < 1.0.\n",
            "    \n",
            "    fsum(...)\n",
            "        fsum(iterable)\n",
            "        \n",
            "        Return an accurate floating point sum of values in the iterable.\n",
            "        Assumes IEEE-754 floating point arithmetic.\n",
            "    \n",
            "    gamma(...)\n",
            "        gamma(x)\n",
            "        \n",
            "        Gamma function at x.\n",
            "    \n",
            "    gcd(...)\n",
            "        gcd(x, y) -> int\n",
            "        greatest common divisor of x and y\n",
            "    \n",
            "    hypot(...)\n",
            "        hypot(x, y)\n",
            "        \n",
            "        Return the Euclidean distance, sqrt(x*x + y*y).\n",
            "    \n",
            "    isclose(...)\n",
            "        isclose(a, b, *, rel_tol=1e-09, abs_tol=0.0) -> bool\n",
            "        \n",
            "        Determine whether two floating point numbers are close in value.\n",
            "        \n",
            "           rel_tol\n",
            "               maximum difference for being considered \"close\", relative to the\n",
            "               magnitude of the input values\n",
            "            abs_tol\n",
            "               maximum difference for being considered \"close\", regardless of the\n",
            "               magnitude of the input values\n",
            "        \n",
            "        Return True if a is close in value to b, and False otherwise.\n",
            "        \n",
            "        For the values to be considered close, the difference between them\n",
            "        must be smaller than at least one of the tolerances.\n",
            "        \n",
            "        -inf, inf and NaN behave similarly to the IEEE 754 Standard.  That\n",
            "        is, NaN is not close to anything, even itself.  inf and -inf are\n",
            "        only close to themselves.\n",
            "    \n",
            "    isfinite(...)\n",
            "        isfinite(x) -> bool\n",
            "        \n",
            "        Return True if x is neither an infinity nor a NaN, and False otherwise.\n",
            "    \n",
            "    isinf(...)\n",
            "        isinf(x) -> bool\n",
            "        \n",
            "        Return True if x is a positive or negative infinity, and False otherwise.\n",
            "    \n",
            "    isnan(...)\n",
            "        isnan(x) -> bool\n",
            "        \n",
            "        Return True if x is a NaN (not a number), and False otherwise.\n",
            "    \n",
            "    ldexp(...)\n",
            "        ldexp(x, i)\n",
            "        \n",
            "        Return x * (2**i).\n",
            "    \n",
            "    lgamma(...)\n",
            "        lgamma(x)\n",
            "        \n",
            "        Natural logarithm of absolute value of Gamma function at x.\n",
            "    \n",
            "    log(...)\n",
            "        log(x[, base])\n",
            "        \n",
            "        Return the logarithm of x to the given base.\n",
            "        If the base not specified, returns the natural logarithm (base e) of x.\n",
            "    \n",
            "    log10(...)\n",
            "        log10(x)\n",
            "        \n",
            "        Return the base 10 logarithm of x.\n",
            "    \n",
            "    log1p(...)\n",
            "        log1p(x)\n",
            "        \n",
            "        Return the natural logarithm of 1+x (base e).\n",
            "        The result is computed in a way which is accurate for x near zero.\n",
            "    \n",
            "    log2(...)\n",
            "        log2(x)\n",
            "        \n",
            "        Return the base 2 logarithm of x.\n",
            "    \n",
            "    modf(...)\n",
            "        modf(x)\n",
            "        \n",
            "        Return the fractional and integer parts of x.  Both results carry the sign\n",
            "        of x and are floats.\n",
            "    \n",
            "    pow(...)\n",
            "        pow(x, y)\n",
            "        \n",
            "        Return x**y (x to the power of y).\n",
            "    \n",
            "    radians(...)\n",
            "        radians(x)\n",
            "        \n",
            "        Convert angle x from degrees to radians.\n",
            "    \n",
            "    sin(...)\n",
            "        sin(x)\n",
            "        \n",
            "        Return the sine of x (measured in radians).\n",
            "    \n",
            "    sinh(...)\n",
            "        sinh(x)\n",
            "        \n",
            "        Return the hyperbolic sine of x.\n",
            "    \n",
            "    sqrt(...)\n",
            "        sqrt(x)\n",
            "        \n",
            "        Return the square root of x.\n",
            "    \n",
            "    tan(...)\n",
            "        tan(x)\n",
            "        \n",
            "        Return the tangent of x (measured in radians).\n",
            "    \n",
            "    tanh(...)\n",
            "        tanh(x)\n",
            "        \n",
            "        Return the hyperbolic tangent of x.\n",
            "    \n",
            "    trunc(...)\n",
            "        trunc(x:Real) -> Integral\n",
            "        \n",
            "        Truncates x to the nearest Integral toward 0. Uses the __trunc__ magic method.\n",
            "\n",
            "DATA\n",
            "    e = 2.718281828459045\n",
            "    inf = inf\n",
            "    nan = nan\n",
            "    pi = 3.141592653589793\n",
            "    tau = 6.283185307179586\n",
            "\n",
            "FILE\n",
            "    (built-in)\n",
            "\n",
            "\n"
          ]
        }
      ],
      "source": [
        "import math\n",
        "help(math)  "
      ]
    },
    {
      "cell_type": "markdown",
      "metadata": {
        "id": "iWgIqG5CdmPy"
      },
      "source": [
        "## Advantages of Python\n",
        "\n",
        "* Dynamically Typed\n",
        "* User Friendly\n",
        "* Flexible\n",
        "* Portable"
      ]
    },
    {
      "cell_type": "markdown",
      "metadata": {
        "id": "wuxYHSxHdmP0"
      },
      "source": [
        "### Dynamically typed\n",
        "\n",
        "\n",
        "---\n",
        "\n",
        "By the word dynamically typed I meant that python can understand difference between different datatypes and unlike java or go we don't need to declare data type."
      ]
    },
    {
      "cell_type": "code",
      "execution_count": null,
      "metadata": {
        "colab": {
          "base_uri": "https://localhost:8080/",
          "height": 35
        },
        "id": "kHxrXskZdmP1",
        "outputId": "4d3b1625-9ac7-4613-e0a6-b77af3e8452f"
      },
      "outputs": [
        {
          "data": {
            "text/plain": [
              "25.14"
            ]
          },
          "execution_count": 21,
          "metadata": {
            "tags": []
          },
          "output_type": "execute_result"
        }
      ],
      "source": [
        "# For Example\n",
        "a = 22\n",
        "b = 3.14\n",
        "a + b"
      ]
    },
    {
      "cell_type": "markdown",
      "metadata": {
        "id": "vAZpTQ1b8JBB"
      },
      "source": [
        "In the above examlpe we don't need to declare that \n",
        "variable \"a\" will contain an integer and variable \"b\" will contain float.\n",
        "\n",
        "Interpreter of python is smart enough to differntiate datatype.  \n",
        "This smart behaviour of python's interpreter leads to a disadvantage of python that it is slow as it take time to decide datatype.\n"
      ]
    },
    {
      "cell_type": "markdown",
      "metadata": {
        "id": "_71Lbx4D9rT1"
      },
      "source": [
        "### User Friendly\n",
        "\n",
        "\n",
        "---\n",
        "\n",
        "\n",
        "It is easy to learn for people who don't know any programming languagae"
      ]
    },
    {
      "cell_type": "markdown",
      "metadata": {
        "id": "BCHzqewzK7k-"
      },
      "source": [
        "A Simple Programme to swap two integer in java VS python  \n",
        "\n",
        "In java:\n",
        "> ```\n",
        "  import java.util.*;  \n",
        "  class Swap_With {  \n",
        "      public static void main(String[] args) {  \n",
        "        int x, y, t;// x and y are to swap   \n",
        "        Scanner sc = new Scanner(System.in);  \n",
        "        System.out.println(\"Enter the value of X and Y\");  \n",
        "        x = sc.nextInt();  \n",
        "        y = sc.nextInt();  \n",
        "        System.out.println(\"before swapping numbers: \"+x +\"  \"+ y);  \n",
        "        /*swapping */  \n",
        "        t = x;  \n",
        "        x = y;  \n",
        "        y = t;  \n",
        "        System.out.println(\"After swapping: \"+x +\"   \" + y);  \n",
        "        System.out.println( );  \n",
        "      }    \n",
        "  }  \n",
        "  ```\n",
        "\n",
        "  In Python:\n",
        "  > ```\n",
        "    a, b = 22, 6 # assigning values\n",
        "    a, b = b, a # Swaping values\n",
        "    print(\"a\", a)\n",
        "    print(\"b\", b)\n",
        "  ```"
      ]
    },
    {
      "cell_type": "code",
      "execution_count": null,
      "metadata": {
        "colab": {
          "base_uri": "https://localhost:8080/",
          "height": 52
        },
        "id": "x807lxlvMeFT",
        "outputId": "aee1fda6-9d7d-487d-f950-f5155a288aad"
      },
      "outputs": [
        {
          "name": "stdout",
          "output_type": "stream",
          "text": [
            "Before swaping a= 22 b= 6\n",
            "After swaping a = 6 b= 22\n"
          ]
        }
      ],
      "source": [
        "a, b = 22, 6 # assigning values\n",
        "print(\"Before swaping a=\", a, \"b=\", b)\n",
        "a, b = b, a\n",
        "print(\"After swaping a =\", a, \"b=\", b)"
      ]
    },
    {
      "cell_type": "markdown",
      "metadata": {
        "id": "9nfcbBxvMhZf"
      },
      "source": [
        "### Flexible\n",
        "\n",
        "---\n",
        "\n",
        "Python is flexible as we can integrate other language with it  \n",
        "For Ex.\n",
        "\n",
        "Though python don't have any Database feature but we can integrate databases via mySql-connector or sqlite3  \n"
      ]
    },
    {
      "cell_type": "markdown",
      "metadata": {
        "id": "byX6exsWQQFu"
      },
      "source": [
        "### Portable\n",
        "\n",
        "---\n",
        "\n",
        "We can use python on any operating system domain to use python not only limited to PC or laptop  \n",
        "We can run python on mobile phones\n",
        "\n",
        "cross platform== operating system"
      ]
    },
    {
      "cell_type": "markdown",
      "metadata": {
        "id": "Tr_xUpQvQzHv"
      },
      "source": [
        "**NOTE:** We can run python on mobile phones using some apps which are as follow:\n",
        "\n",
        "* Termux\n",
        "* Pydroid\n",
        "* Qpython3\n",
        "\n",
        "I personally belive that termux and pydroid are user friendly"
      ]
    },
    {
      "cell_type": "markdown",
      "metadata": {
        "id": "iOGP5OXPXYio"
      },
      "source": [
        "# Basic Concepts of python (Part: 1)\n",
        "\n",
        "---\n",
        "\n",
        "* print\n",
        "* variables\n",
        "* datatypes\n",
        "* conditions\n",
        "* loops"
      ]
    },
    {
      "cell_type": "markdown",
      "metadata": {
        "id": "3y1i8XwdenSj"
      },
      "source": [
        "## Print\n",
        "---\n",
        "\n",
        "Print is a built in function which means a function buil by python which takes infinity arguments and print them out.\n",
        "\n",
        "since, print function print anything therefore it is a statement."
      ]
    },
    {
      "cell_type": "code",
      "execution_count": null,
      "metadata": {
        "colab": {
          "base_uri": "https://localhost:8080/",
          "height": 69
        },
        "id": "tSTJ34yMetpW",
        "outputId": "783490a6-da79-46ed-fb59-c3ebe2022dfa"
      },
      "outputs": [
        {
          "name": "stdout",
          "output_type": "stream",
          "text": [
            "22\n",
            "Hello World\n",
            "My name is Abhishek and my age is 16\n"
          ]
        }
      ],
      "source": [
        "# For example\n",
        "print(22)\n",
        "print(\"Hello World\")\n",
        "print(\"My name is Abhishek and my age is\", 16)"
      ]
    },
    {
      "cell_type": "markdown",
      "metadata": {
        "id": "vsuW2w3fbq-R"
      },
      "source": [
        "Always remember that an interpreater can print expressions itself but  \n",
        "in script expression only have some values and we need to write some statements to work with them  "
      ]
    },
    {
      "cell_type": "markdown",
      "metadata": {
        "id": "KTf9MN6afcr0"
      },
      "source": [
        "## Variables\n",
        "\n",
        "---\n",
        "\n",
        "Variables are container in python which can contin anything"
      ]
    },
    {
      "cell_type": "markdown",
      "metadata": {
        "id": "9Vy1UX1hfvCy"
      },
      "source": [
        "### Why to create a variable?\n",
        "\n",
        "In programming creating variables saves our time, efforts and make our code clean"
      ]
    },
    {
      "cell_type": "markdown",
      "metadata": {
        "id": "JP0Ystl6gfom"
      },
      "source": [
        "For example  \n",
        "we have \"379.36664979792227774444\" in the beginning of a script and we need to work with it 80 to 100 times in our code  \n",
        "\n",
        "then we can imagine that we create how much  mistakes \n"
      ]
    },
    {
      "cell_type": "code",
      "execution_count": null,
      "metadata": {
        "colab": {
          "base_uri": "https://localhost:8080/",
          "height": 35
        },
        "id": "PocbzMoSgBww",
        "outputId": "bdf6e318-eb24-479a-9aeb-846fd0ea8dfe"
      },
      "outputs": [
        {
          "name": "stdout",
          "output_type": "stream",
          "text": [
            "3712.366649797922\n"
          ]
        }
      ],
      "source": [
        "# For example\n",
        "num = 379.36664979792227774444\n",
        "\n",
        "print(num + 3333)"
      ]
    },
    {
      "cell_type": "markdown",
      "metadata": {
        "id": "35HkCZjXhmyW"
      },
      "source": [
        "But if we create a variable num and assign it value \"379.36664979792227774444\" then  \n",
        "we won't need to write the value again and again"
      ]
    },
    {
      "cell_type": "markdown",
      "metadata": {
        "id": "4niUIoOninV6"
      },
      "source": [
        "### Assigning a variable"
      ]
    },
    {
      "cell_type": "markdown",
      "metadata": {
        "id": "Dg5D1gvykraf"
      },
      "source": [
        "To assign a variable we use = sign"
      ]
    },
    {
      "cell_type": "markdown",
      "metadata": {
        "id": "ZCVYndRTkxXt"
      },
      "source": [
        "**NOTE:** we declare name of variable on left side of = sign and it's value right side of =."
      ]
    },
    {
      "cell_type": "markdown",
      "metadata": {
        "id": "jhTsz3TolJd4"
      },
      "source": [
        "##### Changing Values of a variable"
      ]
    },
    {
      "cell_type": "markdown",
      "metadata": {
        "id": "ul04bFIDlWh8"
      },
      "source": [
        "We can change the value of a variable by declaring it agian\n",
        "\n",
        "For example\n",
        "> We have a variable \"name\" with the value \"Abhishek\"  \n",
        "> We want to change it's value to \"AAlix\"\n"
      ]
    },
    {
      "cell_type": "code",
      "execution_count": null,
      "metadata": {
        "colab": {
          "base_uri": "https://localhost:8080/",
          "height": 35
        },
        "id": "I0ulTZ5jl7NJ",
        "outputId": "69a20af7-4ac1-436e-c674-accd074540dc"
      },
      "outputs": [
        {
          "name": "stdout",
          "output_type": "stream",
          "text": [
            "AAlix\n"
          ]
        }
      ],
      "source": [
        "name = \"Abhishek\" # assigning value\n",
        "name = \"AAlix\" # changing value\n",
        "print(name) # printing value"
      ]
    },
    {
      "cell_type": "markdown",
      "metadata": {
        "id": "gGnh1VzwmMNm"
      },
      "source": [
        "### Rules to declare a variable"
      ]
    },
    {
      "cell_type": "markdown",
      "metadata": {
        "id": "fhLLV-_5ml0u"
      },
      "source": [
        "In a programming language there are certain rules for a thing.  \n",
        "\n",
        "And in python rules for creating or declaring a variable are as follows:"
      ]
    },
    {
      "cell_type": "markdown",
      "metadata": {
        "id": "-lHp24-om7d_"
      },
      "source": [
        "1. Case Sensitivity\n",
        "\n",
        "---\n",
        "\n",
        "Since most of the programming languages are case sensitive therefore python is also case senstitive\n",
        "\n",
        "\n",
        "This means that python interpreate name and Name differently"
      ]
    },
    {
      "cell_type": "code",
      "execution_count": null,
      "metadata": {
        "colab": {
          "base_uri": "https://localhost:8080/",
          "height": 35
        },
        "id": "MlSN38e1nbHM",
        "outputId": "8a4b09f3-2462-4b35-cf5e-85ef39cd7f47"
      },
      "outputs": [
        {
          "name": "stdout",
          "output_type": "stream",
          "text": [
            "2 See differnce 3\n"
          ]
        }
      ],
      "source": [
        "name = 2\n",
        "Name = 3\n",
        "print(name, \"See differnce\", Name)"
      ]
    },
    {
      "cell_type": "markdown",
      "metadata": {
        "id": "_DYheT7SnhwU"
      },
      "source": [
        "2. Special characters\n",
        "\n",
        "---\n",
        "\n",
        "Python don't allow any space and special character execept  \"_\""
      ]
    },
    {
      "cell_type": "code",
      "execution_count": null,
      "metadata": {
        "colab": {
          "base_uri": "https://localhost:8080/",
          "height": 131
        },
        "id": "61u-rpPTod-x",
        "outputId": "7b0658cb-8824-4da3-fafd-0c72ee2f6386"
      },
      "outputs": [
        {
          "ename": "SyntaxError",
          "evalue": "ignored",
          "output_type": "error",
          "traceback": [
            "\u001b[0;36m  File \u001b[0;32m\"<ipython-input-27-e53590522c43>\"\u001b[0;36m, line \u001b[0;32m1\u001b[0m\n\u001b[0;31m    my name = \"Abhishek\"\u001b[0m\n\u001b[0m          ^\u001b[0m\n\u001b[0;31mSyntaxError\u001b[0m\u001b[0;31m:\u001b[0m invalid syntax\n"
          ]
        }
      ],
      "source": [
        "my name = \"Abhishek\""
      ]
    },
    {
      "cell_type": "code",
      "execution_count": null,
      "metadata": {
        "id": "64tPaCTioibw"
      },
      "outputs": [],
      "source": [
        "my_namme = \"Abhishek\""
      ]
    },
    {
      "cell_type": "code",
      "execution_count": null,
      "metadata": {
        "colab": {
          "base_uri": "https://localhost:8080/",
          "height": 35
        },
        "id": "6cNDNyg_onMD",
        "outputId": "8eb93dec-7f30-460c-d77e-b3c1c377979d"
      },
      "outputs": [
        {
          "name": "stdout",
          "output_type": "stream",
          "text": [
            "Abhishek\n"
          ]
        }
      ],
      "source": [
        "name = \"Abhishek\"\n",
        "print(name)"
      ]
    },
    {
      "cell_type": "code",
      "execution_count": null,
      "metadata": {
        "colab": {
          "base_uri": "https://localhost:8080/",
          "height": 166
        },
        "id": "LQlhUconosNm",
        "outputId": "492a5d15-0c4f-43d5-e173-047f8c2816d1"
      },
      "outputs": [
        {
          "ename": "ValueError",
          "evalue": "ignored",
          "output_type": "error",
          "traceback": [
            "\u001b[0;31m---------------------------------------------------------------------------\u001b[0m",
            "\u001b[0;31mValueError\u001b[0m                                Traceback (most recent call last)",
            "\u001b[0;32m<ipython-input-30-4c4a84c2e79a>\u001b[0m in \u001b[0;36m<module>\u001b[0;34m()\u001b[0m\n\u001b[0;32m----> 1\u001b[0;31m \u001b[0mmynamme\u001b[0m\u001b[0;34m,\u001b[0m \u001b[0;34m=\u001b[0m \u001b[0;34m\"Abhishek\"\u001b[0m\u001b[0;34m\u001b[0m\u001b[0;34m\u001b[0m\u001b[0m\n\u001b[0m",
            "\u001b[0;31mValueError\u001b[0m: too many values to unpack (expected 1)"
          ]
        }
      ],
      "source": [
        "mynamme, = \"Abhishek\""
      ]
    },
    {
      "cell_type": "markdown",
      "metadata": {
        "id": "4WCoWc5UpxUf"
      },
      "source": [
        "**NOTE:** in python interpreter we can use underscore to work with last value called"
      ]
    },
    {
      "cell_type": "code",
      "execution_count": null,
      "metadata": {
        "colab": {
          "base_uri": "https://localhost:8080/",
          "height": 35
        },
        "id": "a6SXYIMCp-up",
        "outputId": "94e37458-a469-4a41-f40e-af75b6bb8c58"
      },
      "outputs": [
        {
          "data": {
            "text/plain": [
              "44"
            ]
          },
          "execution_count": 31,
          "metadata": {
            "tags": []
          },
          "output_type": "execute_result"
        }
      ],
      "source": [
        "22+22"
      ]
    },
    {
      "cell_type": "code",
      "execution_count": null,
      "metadata": {
        "colab": {
          "base_uri": "https://localhost:8080/",
          "height": 35
        },
        "id": "zPAB0FhrqAwm",
        "outputId": "e505dd4f-1865-4768-cbf2-3863a82f498c"
      },
      "outputs": [
        {
          "data": {
            "text/plain": [
              "44"
            ]
          },
          "execution_count": 32,
          "metadata": {
            "tags": []
          },
          "output_type": "execute_result"
        }
      ],
      "source": [
        "_"
      ]
    },
    {
      "cell_type": "markdown",
      "metadata": {
        "id": "6s8Y1WodoxMC"
      },
      "source": [
        "3. Correct place to write numbers\n",
        "\n",
        "---\n",
        "\n",
        "In many situations we need to declare with number then we should alwys keep it in mind that we should start a variable with alphabat"
      ]
    },
    {
      "cell_type": "code",
      "execution_count": null,
      "metadata": {
        "colab": {
          "base_uri": "https://localhost:8080/",
          "height": 131
        },
        "id": "p8_BS_BNphw_",
        "outputId": "c605e03b-9823-4f69-f69b-9b28817bd6cb"
      },
      "outputs": [
        {
          "ename": "SyntaxError",
          "evalue": "ignored",
          "output_type": "error",
          "traceback": [
            "\u001b[0;36m  File \u001b[0;32m\"<ipython-input-33-54a609974ef7>\"\u001b[0;36m, line \u001b[0;32m1\u001b[0m\n\u001b[0;31m    2a = 22\u001b[0m\n\u001b[0m     ^\u001b[0m\n\u001b[0;31mSyntaxError\u001b[0m\u001b[0;31m:\u001b[0m invalid syntax\n"
          ]
        }
      ],
      "source": [
        "2a = 22"
      ]
    },
    {
      "cell_type": "code",
      "execution_count": null,
      "metadata": {
        "id": "1U_TUyvrpj0y"
      },
      "outputs": [],
      "source": [
        "a2 = 22"
      ]
    },
    {
      "cell_type": "markdown",
      "metadata": {
        "id": "nNIfKx5kqqo9"
      },
      "source": [
        "## Datatypes\n",
        "\n",
        "---\n",
        "\n"
      ]
    },
    {
      "cell_type": "markdown",
      "metadata": {
        "id": "aadZ1vQaqzvw"
      },
      "source": [
        "In programming, data type is an important concept.\n",
        "\n",
        "\n",
        "Variables can store data of different types, and different types can do different things.\n",
        "\n",
        "Python has the following data types built-in by default, in these categories:"
      ]
    },
    {
      "cell_type": "markdown",
      "metadata": {
        "id": "kCRMmgXmsIsF"
      },
      "source": [
        "* Text type\n",
        "* Numerical type\n",
        "* Sequence\n",
        "* Map type\n",
        "* Set type\n",
        "* Boolean types\n",
        "* Binary types"
      ]
    },
    {
      "cell_type": "markdown",
      "metadata": {
        "id": "pOzuN4Zms5EA"
      },
      "source": [
        "Before begin with datatypes\n",
        "\n",
        "we should know about typecasting"
      ]
    },
    {
      "cell_type": "markdown",
      "metadata": {
        "id": "tf6yrtvCtDHX"
      },
      "source": [
        "### typecasting\n",
        "\n",
        "---\n",
        "\n",
        "it means changing one datatype into other"
      ]
    },
    {
      "cell_type": "markdown",
      "metadata": {
        "id": "HsDLuRioNitj"
      },
      "source": [
        "Typecasting is important as we cann't do operation with different datatypes"
      ]
    },
    {
      "cell_type": "code",
      "execution_count": null,
      "metadata": {
        "id": "3SWrs5jwNv7j"
      },
      "outputs": [],
      "source": [
        "# For example\n",
        "print(\"2\"+2)"
      ]
    },
    {
      "cell_type": "markdown",
      "metadata": {
        "id": "vIvutrimMcNp"
      },
      "source": [
        "we can see type of any thing in python using type() function"
      ]
    },
    {
      "cell_type": "code",
      "execution_count": null,
      "metadata": {
        "id": "RGRSAvSLMt4n"
      },
      "outputs": [],
      "source": [
        "a = 22\n",
        "print(type(a))"
      ]
    },
    {
      "cell_type": "markdown",
      "metadata": {
        "id": "ZXMD8i8UtQcz"
      },
      "source": [
        "### Text type"
      ]
    },
    {
      "cell_type": "markdown",
      "metadata": {
        "id": "JM_Mqz41taEg"
      },
      "source": [
        "#### String\n",
        "\n",
        "---"
      ]
    },
    {
      "cell_type": "markdown",
      "metadata": {
        "id": "1uJqmQWntfrT"
      },
      "source": [
        "string is that literal(expression) which python will see as statement\n",
        "We write string with either single quote or double quote\n",
        "If we don't write a string inside quotes then python will interpret it as variable or statement "
      ]
    },
    {
      "cell_type": "code",
      "execution_count": null,
      "metadata": {
        "id": "qJJJxseLudP1"
      },
      "outputs": [],
      "source": [
        "\"print(222)\""
      ]
    },
    {
      "cell_type": "code",
      "execution_count": null,
      "metadata": {
        "id": "T5ApfJGGuj3M"
      },
      "outputs": [],
      "source": [
        "print(222)"
      ]
    },
    {
      "cell_type": "code",
      "execution_count": null,
      "metadata": {
        "id": "G-e4MTGHugpj"
      },
      "outputs": [],
      "source": [
        "Abhishek"
      ]
    },
    {
      "cell_type": "code",
      "execution_count": null,
      "metadata": {
        "id": "-_nb-8kkuiCA"
      },
      "outputs": [],
      "source": [
        "\"Abhishek\""
      ]
    },
    {
      "cell_type": "code",
      "execution_count": null,
      "metadata": {
        "id": "qhm2igJTLFuO"
      },
      "outputs": [],
      "source": [
        "\"4+4\""
      ]
    },
    {
      "cell_type": "markdown",
      "metadata": {
        "id": "hrzU4lKIKw5e"
      },
      "source": [
        "We can typecaste anything to sring using  \n",
        "\n",
        "str() function."
      ]
    },
    {
      "cell_type": "code",
      "execution_count": null,
      "metadata": {
        "id": "Py5q-uMsK93D"
      },
      "outputs": [],
      "source": [
        "# For example\n",
        "num1 = str(241)\n",
        "num2 = \"Ahejj\"\n",
        "str(num1)\n",
        "str(num2)\n",
        "print(num1+num2)"
      ]
    },
    {
      "cell_type": "markdown",
      "metadata": {
        "id": "gTe8SFPeulp9"
      },
      "source": [
        "### Numerical Type"
      ]
    },
    {
      "cell_type": "markdown",
      "metadata": {
        "id": "6Xl3rXCaKCj9"
      },
      "source": [
        "#### Integer(int)\n",
        "\n",
        "\n",
        "\n"
      ]
    },
    {
      "cell_type": "markdown",
      "metadata": {
        "id": "SvbuAHg2KGti"
      },
      "source": [
        "Integer refers to any integer  \n",
        "\n",
        "we can typecaste anything which is a number can be done by int()"
      ]
    },
    {
      "cell_type": "markdown",
      "metadata": {
        "id": "fXrMlysfLv9x"
      },
      "source": [
        "__NOTE:__ only non decimal expression known as integer"
      ]
    },
    {
      "cell_type": "code",
      "execution_count": null,
      "metadata": {
        "id": "6cL1WybgMRcJ"
      },
      "outputs": [],
      "source": [
        "a = \"44\"\n",
        "print(type(a))\n",
        "print(type(int(a)))"
      ]
    },
    {
      "cell_type": "markdown",
      "metadata": {
        "id": "1gvaoe7sMWWi"
      },
      "source": [
        "#### Float\n",
        "\n",
        "---\n",
        "\n"
      ]
    },
    {
      "cell_type": "markdown",
      "metadata": {
        "id": "nT1sV8pFVKy6"
      },
      "source": [
        "all decimals value are known as float in python"
      ]
    },
    {
      "cell_type": "markdown",
      "metadata": {
        "id": "rrVFFFVoM23a"
      },
      "source": [
        "float() function is use to typecaste a float"
      ]
    },
    {
      "cell_type": "code",
      "execution_count": null,
      "metadata": {
        "id": "pGHTM6vPYdpb"
      },
      "outputs": [],
      "source": [
        "type(3.14)"
      ]
    },
    {
      "cell_type": "code",
      "execution_count": null,
      "metadata": {
        "id": "msV-gn2vNlTm"
      },
      "outputs": [],
      "source": [
        "# for example\n",
        "a = \"3.14594\"\n",
        "print(type(a))\n",
        "print(type(float(a)))"
      ]
    },
    {
      "cell_type": "markdown",
      "metadata": {
        "id": "RPw46-FxEc9p"
      },
      "source": [
        "### Sequence\n",
        "\n",
        "---"
      ]
    },
    {
      "cell_type": "markdown",
      "metadata": {
        "id": "NfqYuu1XElDw"
      },
      "source": [
        "sequence datatype is use to cantain different datas  \n",
        "thease are total of 3 types for basic:\n",
        "> 1. List\n",
        "> 2. tuple\n",
        "> 3. array\n",
        "\n",
        "for advance python we use ndarray which is more faster than lists and tuple"
      ]
    },
    {
      "cell_type": "markdown",
      "metadata": {
        "id": "SPeQ6EueFZvB"
      },
      "source": [
        "#### List\n",
        "\n",
        "---"
      ]
    },
    {
      "cell_type": "markdown",
      "metadata": {
        "id": "vyqQzQNPFdK1"
      },
      "source": [
        "list is a mutable object in python  \n",
        "**Mutable:** it means that we can modify it's values after creating  \n",
        "\n",
        "list can containt any datatype and we can modify it.  "
      ]
    },
    {
      "cell_type": "markdown",
      "metadata": {
        "id": "rJv47Uz_G-_r"
      },
      "source": [
        "to create a list object we use **[]** brackets.  \n",
        "and for typecasting a list we use **list()**"
      ]
    },
    {
      "cell_type": "code",
      "execution_count": null,
      "metadata": {
        "id": "1htpY6PpHLPa"
      },
      "outputs": [],
      "source": [
        "list1 = [1, 2, 3, 4, 5, 6, 7, 8, 9, 10]\n",
        "list2 = list((1, 2, 3, 4, 5, 6, 7, 8, 9, 10))\n",
        "list3 = [\n",
        "         [1, 2, 3],\n",
        "         [4, 5, 6],\n",
        "         [7, 8, 9],\n",
        "         10\n",
        "]"
      ]
    },
    {
      "cell_type": "code",
      "execution_count": null,
      "metadata": {
        "id": "0rucXcWKHt9w"
      },
      "outputs": [],
      "source": [
        "print(list1, type(list1))\n",
        "print(list2, type(list1))\n",
        "print(list3, type(list1))"
      ]
    },
    {
      "cell_type": "markdown",
      "metadata": {
        "id": "9eOWzlfZIoXw"
      },
      "source": [
        "##### adding element to an existing list"
      ]
    },
    {
      "cell_type": "markdown",
      "metadata": {
        "id": "XCarRsOQI_gZ"
      },
      "source": [
        "we can add elements to an existing list with the help of **append** method"
      ]
    },
    {
      "cell_type": "code",
      "execution_count": null,
      "metadata": {
        "id": "U3z26sQcJdl4"
      },
      "outputs": [],
      "source": [
        "list4 = [] # an empty list\n",
        "list4.append(2)\n",
        "print(list4, type(list4))"
      ]
    },
    {
      "cell_type": "markdown",
      "metadata": {
        "id": "zPBg564CNaWG"
      },
      "source": [
        "Just like append method there are more list methods which you may see from [W3school](https://www.w3schools.com/python/python_lists.asp)"
      ]
    },
    {
      "cell_type": "markdown",
      "metadata": {
        "id": "nuP09Y-fJx06"
      },
      "source": [
        "##### Accessing items from a list"
      ]
    },
    {
      "cell_type": "markdown",
      "metadata": {
        "id": "dL9e3SBwJ_zQ"
      },
      "source": [
        "let's learn how to access any element from a list"
      ]
    },
    {
      "cell_type": "markdown",
      "metadata": {
        "id": "ptVSFNjkKMGs"
      },
      "source": [
        "we access any element by writing index of element in square braces along the list"
      ]
    },
    {
      "cell_type": "markdown",
      "metadata": {
        "id": "H6Z7zpRDKfnD"
      },
      "source": [
        "Index of an element is id of the element.  \n",
        "\n",
        "We read it as \n",
        "![slicing](https://cdn.programiz.com/sites/tutorial2program/files/python-list-index.png)  \n",
        "\n",
        "\n",
        "here,  \n",
        "a = [\"p\", \"r\", \"o\", \"b\", \"e\"] is given..."
      ]
    },
    {
      "cell_type": "markdown",
      "metadata": {
        "id": "xQBCP3AoLZm0"
      },
      "source": [
        "-ve index is use to access last item"
      ]
    },
    {
      "cell_type": "code",
      "execution_count": null,
      "metadata": {
        "id": "Pshu8rUpLgSL"
      },
      "outputs": [],
      "source": [
        "a = [\"p\", \"y\", \"t\", \"h\", \"o\", \"n\"]\n",
        "#     0    1    2    3    4    5\n",
        "#    -6   -5   -4   -3   -2    -1"
      ]
    },
    {
      "cell_type": "code",
      "execution_count": null,
      "metadata": {
        "id": "qsD-wlQNMHXy"
      },
      "outputs": [],
      "source": [
        "# extracting single elements\n",
        "a = [\"p\",\"q\",\"r\",\"s\",\"t\"]\n",
        "print(a[0])\n",
        "print(a[2])\n",
        "print(a[4])\n",
        "# neagative indexes\n",
        "print(a[-5])\n",
        "print(a[-1])"
      ]
    },
    {
      "cell_type": "code",
      "execution_count": null,
      "metadata": {
        "id": "ytI8zD6AMzjf"
      },
      "outputs": [],
      "source": [
        "# extracting a group of elements\n",
        "print(a[0:3])\n",
        "print(a[:2])"
      ]
    },
    {
      "cell_type": "markdown",
      "metadata": {
        "id": "W24XtI6INMJ7"
      },
      "source": [
        "## Operaters"
      ]
    },
    {
      "cell_type": "markdown",
      "metadata": {
        "id": "BHJcl1M9Wald"
      },
      "source": [
        "1. Airthmatic\n",
        "2. Comparison\n",
        "3. Logical\n",
        "4. Membership\n",
        "5. Identity\n",
        "6. Bitwise\n",
        "7. Assignment operaters\n"
      ]
    },
    {
      "cell_type": "markdown",
      "metadata": {
        "id": "dZUq3a9WWimW"
      },
      "source": [
        "### Airthmatics"
      ]
    },
    {
      "cell_type": "markdown",
      "metadata": {
        "id": "tTixsjqSxHNB"
      },
      "source": [
        "Airthmetic operators are used to perform arithmatical operations with variables or integers or floats"
      ]
    },
    {
      "cell_type": "code",
      "execution_count": null,
      "metadata": {
        "id": "ER7Z3f07WmDP"
      },
      "outputs": [],
      "source": [
        "# Some Airthmatic operators are as follows\n",
        "# + => addition\n",
        "# - => subtraction\n",
        "# * => product\n",
        "# / => division\n",
        "# ** => Power\n",
        "# // => Floor division"
      ]
    },
    {
      "cell_type": "code",
      "execution_count": null,
      "metadata": {
        "id": "Vo4IdBnnW6m0"
      },
      "outputs": [],
      "source": [
        "# a//b == greatest_numfunction(a/b)"
      ]
    },
    {
      "cell_type": "markdown",
      "metadata": {
        "id": "Nx631Y0Yw5pn"
      },
      "source": [
        "### Comparision"
      ]
    },
    {
      "cell_type": "markdown",
      "metadata": {
        "id": "rHXd4G4nDypK"
      },
      "source": [
        "In every programing language we use comparisions operation while dealing with conditionals or loops"
      ]
    },
    {
      "cell_type": "markdown",
      "metadata": {
        "id": "XMBRR_zeEe4O"
      },
      "source": [
        "Comparision operations are use to compare something with something  \n",
        "Ex.  \n",
        "\n",
        "- Less than\n",
        "- Greater than\n",
        "- Less than or equal to\n",
        "- Greater than or rqual to\n",
        "- Equal to\n"
      ]
    },
    {
      "cell_type": "code",
      "execution_count": null,
      "metadata": {
        "id": "WO0ikI7vw-FJ"
      },
      "outputs": [],
      "source": [
        "# >  greater than\n",
        "# => greater than equal to\n",
        "# < less than\n",
        "# =< less than equal to\n",
        "# == equal to"
      ]
    },
    {
      "cell_type": "markdown",
      "metadata": {
        "id": "eSh_jNTRc7FD"
      },
      "source": [
        "<h1>Excercise1</h1>\n",
        "\n",
        "---\n",
        "\n",
        "Q1 find area and perimeter for  (take $\\pi$ = 3.14159)\n",
        "\n",
        "\n",
        "> Example quest. 1 a circle of radius 2.9393939339399339339393939393939393939393999993939 cm\n",
        ">\n",
        "> 1. a circle of radius 3.586222 micro meter in meter  \n",
        ">\n",
        "> 2. a circular park of 892.402842984999 hactameter in centimeter  \n",
        ">\n",
        "> 3. a laptop screen of 32.350293334 x22.8383838 inch in femmi meter\n",
        ">\n",
        "> 4. A laptop charger plug of 9.5871048600385988374874284793749394777 mm Diameter  in  decimeter\n",
        ">\n",
        "> 5. A len of glasses forming a complete circle of 7.535366635 nanometer diameter and 4 semicricles of $\\sqrt{1.347383}$ micrometer in decameters"
      ]
    },
    {
      "cell_type": "markdown",
      "metadata": {
        "id": "iX4Xcutaj6BK"
      },
      "source": [
        "How to submit this exercise?"
      ]
    },
    {
      "cell_type": "markdown",
      "metadata": {
        "id": "PeINZX-ckOuy"
      },
      "source": [
        "Create a script\n",
        "```\n",
        "# \"Qx Pt.y\" where x is quest. No. and y is part No.\n",
        "\n",
        "write your code... \n",
        "\n",
        "print(results)\n",
        "```"
      ]
    },
    {
      "cell_type": "code",
      "execution_count": null,
      "metadata": {
        "cellView": "code",
        "id": "qf_DZuiEkrGJ"
      },
      "outputs": [],
      "source": [
        "# Example I am attempting quest.1 and part 1\n",
        " \n",
        "# Q1 Pt1\n",
        " \n",
        "# Given\n",
        "pi = 3.14159\n",
        "radius_cm = 2.9393939339399339339393939393939393939393999993939\n",
        "radius_meter = radius_cm*10**-2\n",
        " \n",
        "# Perimeter\n",
        "peri = 2*pi*radius_meter\n",
        "print(str(peri) + \" m\")\n",
        "# area\n",
        "area = pi*radius_meter**2\n",
        "print(area, \"m\\u00b2\") # use \\u00b for superscript and \\u208 for subscript\n",
        "print(\"-------------------\") # Work as a seperator"
      ]
    },
    {
      "cell_type": "markdown",
      "metadata": {
        "id": "U03krNV3wZME"
      },
      "source": [
        "### Logical operators"
      ]
    },
    {
      "cell_type": "markdown",
      "metadata": {
        "id": "7RrFAXcMwxVr"
      },
      "source": [
        "Logical operaters are (and, or, not) thease operaters are use to perform logical operations  \n",
        "\n",
        "and often to create switch statements"
      ]
    },
    {
      "cell_type": "markdown",
      "metadata": {
        "id": "rcQd6qibxq2C"
      },
      "source": [
        "\"and\" operater is use to determine that more than one expression are true  \n",
        "if any one expresion is false then and statement is false.\n"
      ]
    },
    {
      "cell_type": "code",
      "execution_count": null,
      "metadata": {
        "colab": {
          "base_uri": "https://localhost:8080/",
          "height": 35
        },
        "id": "uU-86TZmxXDd",
        "outputId": "02d5460a-a20d-4a5c-a044-5b2429ab61b5"
      },
      "outputs": [
        {
          "data": {
            "text/plain": [
              "False"
            ]
          },
          "execution_count": 9,
          "metadata": {
            "tags": []
          },
          "output_type": "execute_result"
        }
      ],
      "source": [
        "2>1 and 2==1"
      ]
    },
    {
      "cell_type": "markdown",
      "metadata": {
        "id": "_fDGZSBuyQSY"
      },
      "source": [
        "\"or\" operater is use to determine that more than one expression are true  \n",
        "if any one expresion is true then or statement is true.\n"
      ]
    },
    {
      "cell_type": "code",
      "execution_count": null,
      "metadata": {
        "colab": {
          "base_uri": "https://localhost:8080/",
          "height": 35
        },
        "id": "Kvom03idxbf4",
        "outputId": "546554b6-0015-48d5-e834-bcd2345deaa0"
      },
      "outputs": [
        {
          "data": {
            "text/plain": [
              "True"
            ]
          },
          "execution_count": 10,
          "metadata": {
            "tags": []
          },
          "output_type": "execute_result"
        }
      ],
      "source": [
        "2>1 or 2==1"
      ]
    },
    {
      "cell_type": "markdown",
      "metadata": {
        "id": "5iEwtjxOyea4"
      },
      "source": [
        "\"not\" operater is used to convert true expresion false and vice versa."
      ]
    },
    {
      "cell_type": "code",
      "execution_count": null,
      "metadata": {
        "colab": {
          "base_uri": "https://localhost:8080/",
          "height": 35
        },
        "id": "VGz9cfHXxgQg",
        "outputId": "58c02c56-9777-456a-c407-c3d21eccf291"
      },
      "outputs": [
        {
          "data": {
            "text/plain": [
              "False"
            ]
          },
          "execution_count": 11,
          "metadata": {
            "tags": []
          },
          "output_type": "execute_result"
        }
      ],
      "source": [
        "not 2>1"
      ]
    },
    {
      "cell_type": "markdown",
      "metadata": {
        "id": "3vN6jOd3HHNc"
      },
      "source": [
        "### Membership Operaters"
      ]
    },
    {
      "cell_type": "markdown",
      "metadata": {
        "id": "3wQNh792aES9"
      },
      "source": [
        "\n",
        "Membership operaters are use to check weather an object is present in a sequence or not."
      ]
    },
    {
      "cell_type": "markdown",
      "metadata": {
        "id": "S_5WLqFeaTlX"
      },
      "source": [
        "**NOTE:** Collection of string is also refer as a sequence\n",
        "\n",
        "```\n",
        "\"123\" or \"abc\"\n",
        "```"
      ]
    },
    {
      "cell_type": "markdown",
      "metadata": {
        "id": "Sx-mL45kHLNV"
      },
      "source": [
        "\"in\" and \"not in\" are membership operaters in python."
      ]
    },
    {
      "cell_type": "code",
      "execution_count": null,
      "metadata": {
        "colab": {
          "base_uri": "https://localhost:8080/",
          "height": 35
        },
        "id": "IT-4VcHTaffo",
        "outputId": "246c8e52-b5c8-403f-9c73-828f947d01ab"
      },
      "outputs": [
        {
          "data": {
            "text/plain": [
              "True"
            ]
          },
          "execution_count": 35,
          "metadata": {
            "tags": []
          },
          "output_type": "execute_result"
        }
      ],
      "source": [
        "\"A\" in \"Abhishek\""
      ]
    },
    {
      "cell_type": "code",
      "execution_count": null,
      "metadata": {
        "colab": {
          "base_uri": "https://localhost:8080/",
          "height": 35
        },
        "id": "G0J9X6YEaidw",
        "outputId": "242b3b8e-e0b4-458d-adc9-d2d6da1c5859"
      },
      "outputs": [
        {
          "data": {
            "text/plain": [
              "False"
            ]
          },
          "execution_count": 41,
          "metadata": {
            "tags": []
          },
          "output_type": "execute_result"
        }
      ],
      "source": [
        "# since python is case sensitive that's why small a is not consider same as A\n",
        "\"a\" in \"Abhishek\""
      ]
    },
    {
      "cell_type": "code",
      "execution_count": null,
      "metadata": {
        "colab": {
          "base_uri": "https://localhost:8080/",
          "height": 35
        },
        "id": "PA5jYDqyamS_",
        "outputId": "3f99ee98-29b9-45dc-87c4-ac11dce448bb"
      },
      "outputs": [
        {
          "data": {
            "text/plain": [
              "True"
            ]
          },
          "execution_count": 43,
          "metadata": {
            "tags": []
          },
          "output_type": "execute_result"
        }
      ],
      "source": [
        "1 in [1, 2, 3, 4]"
      ]
    },
    {
      "cell_type": "code",
      "execution_count": null,
      "metadata": {
        "colab": {
          "base_uri": "https://localhost:8080/",
          "height": 35
        },
        "id": "tcYdVy7Da9xl",
        "outputId": "50157b93-ded5-46a6-feb7-416f30589a65"
      },
      "outputs": [
        {
          "data": {
            "text/plain": [
              "False"
            ]
          },
          "execution_count": 45,
          "metadata": {
            "tags": []
          },
          "output_type": "execute_result"
        }
      ],
      "source": [
        "\"a\" not in [\"a\", 2, \"b\"]"
      ]
    },
    {
      "cell_type": "code",
      "execution_count": null,
      "metadata": {
        "colab": {
          "base_uri": "https://localhost:8080/",
          "height": 35
        },
        "id": "7FnL68JBbKBw",
        "outputId": "5266af1b-136d-4079-a9d2-50fe9183fda4"
      },
      "outputs": [
        {
          "data": {
            "text/plain": [
              "True"
            ]
          },
          "execution_count": 47,
          "metadata": {
            "tags": []
          },
          "output_type": "execute_result"
        }
      ],
      "source": [
        "\"c\" not in \"Kake\""
      ]
    },
    {
      "cell_type": "markdown",
      "metadata": {
        "id": "xoDGvS5WblN7"
      },
      "source": [
        "### Identity Operaters"
      ]
    },
    {
      "cell_type": "markdown",
      "metadata": {
        "id": "LZhq2fRsbohi"
      },
      "source": [
        "Identity operator is use to check that weather two objects are equal or not  \n",
        "\n",
        "\"is\" and \"is not\" are identity operaters"
      ]
    },
    {
      "cell_type": "code",
      "execution_count": null,
      "metadata": {
        "id": "WAWESYWdzEzb"
      },
      "outputs": [],
      "source": [
        "obj1 = \"222\"\n",
        "obj2 = 222\n",
        "obj3 = 222\n",
        "obj4 = \"222\""
      ]
    },
    {
      "cell_type": "code",
      "execution_count": null,
      "metadata": {
        "colab": {
          "base_uri": "https://localhost:8080/",
          "height": 87
        },
        "id": "BrC-8PwQzR4O",
        "outputId": "b0e317cf-3245-4df9-a870-4b3fc34d3d18"
      },
      "outputs": [
        {
          "name": "stdout",
          "output_type": "stream",
          "text": [
            "False\n",
            "True\n",
            "False\n"
          ]
        },
        {
          "data": {
            "text/plain": [
              "True"
            ]
          },
          "execution_count": 18,
          "metadata": {
            "tags": []
          },
          "output_type": "execute_result"
        }
      ],
      "source": [
        "print(obj1 is obj2)\n",
        "print(obj2 is obj3)\n",
        "print(obj3 is obj4)\n",
        "obj4 is obj1"
      ]
    },
    {
      "cell_type": "markdown",
      "metadata": {
        "id": "zk3cZ9Vaa3Ml"
      },
      "source": [
        "### Bitwise Operater"
      ]
    }
  ],
  "metadata": {
    "colab": {
      "collapsed_sections": [],
      "name": "Stage1.ipynb",
      "provenance": []
    },
    "kernelspec": {
      "display_name": "Python 3.8.5 ('base')",
      "language": "python",
      "name": "python3"
    },
    "language_info": {
      "codemirror_mode": {
        "name": "ipython",
        "version": 3
      },
      "file_extension": ".py",
      "mimetype": "text/x-python",
      "name": "python",
      "nbconvert_exporter": "python",
      "pygments_lexer": "ipython3",
      "version": "3.8.5"
    },
    "toc": {
      "base_numbering": 1,
      "nav_menu": {},
      "number_sections": true,
      "sideBar": true,
      "skip_h1_title": false,
      "title_cell": "Table of Contents",
      "title_sidebar": "Contents",
      "toc_cell": false,
      "toc_position": {},
      "toc_section_display": true,
      "toc_window_display": true
    },
    "varInspector": {
      "cols": {
        "lenName": 16,
        "lenType": 16,
        "lenVar": 40
      },
      "kernels_config": {
        "python": {
          "delete_cmd_postfix": "",
          "delete_cmd_prefix": "del ",
          "library": "var_list.py",
          "varRefreshCmd": "print(var_dic_list())"
        },
        "r": {
          "delete_cmd_postfix": ") ",
          "delete_cmd_prefix": "rm(",
          "library": "var_list.r",
          "varRefreshCmd": "cat(var_dic_list()) "
        }
      },
      "types_to_exclude": [
        "module",
        "function",
        "builtin_function_or_method",
        "instance",
        "_Feature"
      ],
      "window_display": false
    },
    "vscode": {
      "interpreter": {
        "hash": "ad2bdc8ecc057115af97d19610ffacc2b4e99fae6737bb82f5d7fb13d2f2c186"
      }
    }
  },
  "nbformat": 4,
  "nbformat_minor": 0
}
